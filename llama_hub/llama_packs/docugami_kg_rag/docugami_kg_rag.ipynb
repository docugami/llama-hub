{
 "cells": [
  {
   "cell_type": "code",
   "execution_count": null,
   "metadata": {},
   "outputs": [],
   "source": [
    "%load_ext autoreload\n",
    "%autoreload 2"
   ]
  },
  {
   "attachments": {},
   "cell_type": "markdown",
   "metadata": {},
   "source": [
    "# Docugami\n",
    "This notebook covers how to use the `Docugami KG-RAG` llama-pack. See [README](./README.md) for more details, and the advantages of using this agent.\n",
    "\n",
    "## Prerequisites\n",
    "1. Follow the Quick Start section in [README](./README.md)\n",
    "2. Grab an access token for your workspace, and make sure it is set as the DOCUGAMI_API_KEY environment variable\n",
    "3. Grab some docset and document IDs for your processed documents, as described here: https://help.docugami.com/home/docugami-api"
   ]
  },
  {
   "attachments": {},
   "cell_type": "markdown",
   "metadata": {},
   "source": [
    "## List Docsets\n",
    "\n",
    "Make sure that you have a docset ready in your Docugami org. You can find your available docsets using the `list_docsets` command."
   ]
  },
  {
   "cell_type": "code",
   "execution_count": null,
   "metadata": {},
   "outputs": [],
   "source": [
    "from base import DocugamiKgRagPack\n",
    "\n",
    "pack = DocugamiKgRagPack()\n",
    "pack.list_docsets()"
   ]
  },
  {
   "cell_type": "markdown",
   "metadata": {},
   "source": [
    "## Index Docset\n",
    "\n",
    "Before you can run your query, you need to build your vector index using the command `index_docset(docset_id)`\n",
    "\n",
    "Indexing in this template uses the Docugami Reader for LlamaIndex to create semantic chunks out of your documents.\n",
    "\n",
    "Note that if you previously ran indexing for the same docset, the index will not be recreated. If you want to force recreate the index (e.g. if you have new docs in the docset or changed your chunking config parameters) please specify `overwrite=True`"
   ]
  },
  {
   "cell_type": "code",
   "execution_count": null,
   "metadata": {},
   "outputs": [],
   "source": [
    "docset_id = \"5bcy7abew0sd\"\n",
    "pack.index_docset(docset_id)"
   ]
  },
  {
   "attachments": {},
   "cell_type": "markdown",
   "metadata": {},
   "source": [
    "## Build Agent and Query\n",
    "\n",
    "The final step before running the query is to specify which docset you would like to build the agent for. This allows you to index multiple docsets and then specify which docset you would like to query in particular.\n",
    "\n",
    "You can also specify whether or not you want the agent to use your Docugami reports by specifying `use_reports=True`"
   ]
  },
  {
   "cell_type": "code",
   "execution_count": null,
   "metadata": {},
   "outputs": [],
   "source": [
    "pack.build_agent_for_docset(docset_id, use_reports=True)\n",
    "\n",
    "pack.run(\"What is the Early Bird Discount for a visit to Indonesia?\")\n",
    "\n",
    "# A query that uses the Docugami reports to find more accurate answers\n",
    "pack.run(\"List all the early bird discounts available\")"
   ]
  }
 ],
 "metadata": {
  "kernelspec": {
   "display_name": "Python 3",
   "language": "python",
   "name": "python3"
  },
  "language_info": {
   "codemirror_mode": {
    "name": "ipython",
    "version": 3
   },
   "file_extension": ".py",
   "mimetype": "text/x-python",
   "name": "python",
   "nbconvert_exporter": "python",
   "pygments_lexer": "ipython3",
   "version": "3.9.18"
  },
  "orig_nbformat": 4
 },
 "nbformat": 4,
 "nbformat_minor": 2
}
