{
 "cells": [
  {
   "cell_type": "code",
   "execution_count": 62,
   "metadata": {},
   "outputs": [
    {
     "name": "stdout",
     "output_type": "stream",
     "text": [
      "The autoreload extension is already loaded. To reload it, use:\n",
      "  %reload_ext autoreload\n"
     ]
    }
   ],
   "source": [
    "%load_ext autoreload\n",
    "%autoreload 2"
   ]
  },
  {
   "attachments": {},
   "cell_type": "markdown",
   "metadata": {},
   "source": [
    "# Docugami\n",
    "This notebook covers how to load documents from `Docugami`. See [README](./README.md) for more details, and the advantages of using this system over alternative data readers.\n",
    "\n",
    "## Prerequisites\n",
    "1. Follow the Quick Start section in [README](./README.md)\n",
    "2. Grab an access token for your workspace, and make sure it is set as the DOCUGAMI_API_KEY environment variable\n",
    "3. Grab some docset and document IDs for your processed documents, as described here: https://help.docugami.com/home/docugami-api"
   ]
  },
  {
   "attachments": {},
   "cell_type": "markdown",
   "metadata": {},
   "source": [
    "## Load Documents\n",
    "\n",
    "If the DOCUGAMI_API_KEY environment variable is set, there is no need to pass it in to the reader explicitly otherwise you can pass it in as the `access_token` parameter.\n",
    "\n",
    "The DocugamiReader has a default minimum chunk size of 32. Chunks smaller than that are appended to subsequent chunks. Set min_chunk_size to 0 to get all structural chunks regardless of size."
   ]
  },
  {
   "cell_type": "code",
   "execution_count": 63,
   "metadata": {},
   "outputs": [
    {
     "name": "stdout",
     "output_type": "stream",
     "text": [
      "Doc ID: 030129a9-ff06-47cb-a91d-16b92ebde04f\n",
      "Text: UNITED STATES SECURITIES AND EXCHANGE COMMISSION\n",
      "********************************\n",
      "Doc ID: 1455074b-4e06-4764-b850-783a44412f22\n",
      "Text: Washington , D.C. 20549  FORM 10-Q\n",
      "********************************\n",
      "Doc ID: 06515ffb-1cf3-48af-9354-b677a080df00\n",
      "Text: ( Mark One )  ☒ QUARTERLY REPORT PURSUANT TO SECTION 13 OR 15(d)\n",
      "OF THE SECURITIES EXCHANGE ACT OF 1934\n",
      "********************************\n",
      "Doc ID: 8d8643a5-26a0-4de1-a66c-a2b8759f8c7b\n",
      "Text: For the quarterly period ended June 25, 2022\n",
      "********************************\n",
      "Doc ID: 45de6d72-4cac-44cd-b238-80c790dee052\n",
      "Text: or  ☐ TRANSITION REPORT PURSUANT TO SECTION 13 OR 15(d) OF THE\n",
      "SECURITIES EXCHANGE ACT OF 1934\n",
      "********************************\n"
     ]
    }
   ],
   "source": [
    "from base import DocugamiReader\n",
    "\n",
    "docset_id=\"tjwrr2ekqkc3\"\n",
    "docset_name=\"SEC 10-Q reports\"\n",
    "document_ids=[\"ui7pkriyckwi\", \"1be3o7ch10iy\"]\n",
    "\n",
    "reader = DocugamiReader()\n",
    "chunks = reader.load_data(docset_id=docset_id, document_ids=document_ids)\n",
    "\n",
    "for chunk in chunks[:5]:\n",
    "    print(chunk)\n",
    "    print(\"*\"*32)"
   ]
  },
  {
   "cell_type": "markdown",
   "metadata": {},
   "source": [
    "The `metadata` for each `Document` (really, a chunk of an actual PDF, DOC or DOCX) contains some useful additional information:\n",
    "\n",
    "1. **id and source:** ID and Name of the file (PDF, DOC or DOCX) the chunk is sourced from within Docugami.\n",
    "2. **xpath:** XPath inside the XML representation of the document, for the chunk. Useful for source citations directly to the actual chunk inside the document XML.\n",
    "3. **structure:** Structural attributes of the chunk, e.g. h1, h2, div, table, td, etc. Useful to filter out certain kinds of chunks if needed by the caller.\n",
    "4. **tag:** Semantic tag for the chunk, using various generative and extractive techniques. More details here: https://github.com/docugami/DFM-benchmarks\n",
    "\n",
    "You can control chunking behavior by setting the following properties on the `DocugamiReader` instance:\n",
    "\n",
    "1. You can set min and max chunk size, which the system tries to adhere to with minimal truncation. You can set `reader.min_text_length` and `reader.max_text_length` to control these.\n",
    "2. By default, only the text for chunks is returned. However, Docugami's XML knowledge graph has additional rich information including semantic tags for entities inside the chunk. Set `reader.include_xml_tags = True` if you want the additional xml metadata on the returned chunks.\n",
    "3. In addition, you can set `reader.parent_hierarchy_levels` if you want Docugami to return parent chunks in the chunks it returns. The child chunks point to the parent chunks via the `reader.parent_id_key` value. This is useful for [small-to-big](https://www.youtube.com/watch?v=ihSiRrOUwmg) retrieval."
   ]
  },
  {
   "cell_type": "code",
   "execution_count": 64,
   "metadata": {},
   "outputs": [
    {
     "name": "stdout",
     "output_type": "stream",
     "text": [
      "Doc ID: b3854cc2-3ce3-4c98-8f8a-18e08fb98cf2\n",
      "Text: UNITED STATES SECURITIES AND EXCHANGE COMMISSION\n",
      "<USState>Washington</USState>, D.C. <ZipCode>20549 </ZipCode>  FORM\n",
      "10-Q  (Mark One)  <ReportingPeriod> ☒ QUARTERLY REPORT PURSUANT TO\n",
      "SECTION 13 OR 15(d) OF THE SECURITIES EXCHANGE ACT OF <Act>1934\n",
      "</Act></ReportingPeriod>  <FinancialReportingPeriod>\n",
      "<FinancialReportingPeriod>For the quarterly p...\n",
      "********************************\n",
      "Doc ID: 56c3a970-cb2a-4efe-87c4-763160fd50fa\n",
      "Text: Yes ☒ No ☐  <CompanySize> Indicate by check mark whether the\n",
      "Registrant is a large accelerated filer, an accelerated filer, a non-\n",
      "accelerated filer, a smaller reporting company, or an emerging growth\n",
      "company. See the definitions of “large accelerated filer,”\n",
      "“accelerated filer,” “smaller reporting company,” and “emerging growth\n",
      "company” in Rule ...\n",
      "********************************\n",
      "Doc ID: 99a089b9-5da3-4f4a-baea-5f84b24cb4c4\n",
      "Text: <FinancialStatementNotes> See accompanying Notes to Condensed\n",
      "Consolidated Financial Statements. </FinancialStatementNotes>\n",
      "<CompanyNameandFilingDate> <CompanyName>Apple Inc. </CompanyName>|\n",
      "<Quarter>Q3 </Quarter><Year>2022 </Year>Form 10-Q | <CompanyName>1\n",
      "</CompanyName></CompanyNameandFilingDate>  CONDENSED CONSOLIDATED\n",
      "STATEMENTS OF COMPREHE...\n",
      "********************************\n",
      "Doc ID: 731040c8-89f5-4689-adb9-1dd56113109c\n",
      "Text: <FinancialStatementNotes> See accompanying Notes to Condensed\n",
      "Consolidated Financial Statements. </FinancialStatementNotes>\n",
      "<FinancialStatements> <CompanyName>Apple Inc. </CompanyName>|\n",
      "<Quarter>Q3 </Quarter><Year>2022 </Year>Form 10-Q | <CompanyName>2\n",
      "</CompanyName></FinancialStatements>  CONDENSED CONSOLIDATED BALANCE\n",
      "SHEETS (Unaudited)  <Fin...\n",
      "********************************\n",
      "Doc ID: 887d4f45-fc21-431d-8ef9-03177fad2a7a\n",
      "Text: <FinancialStatementNotes> See accompanying Notes to Condensed\n",
      "Consolidated Financial Statements. </FinancialStatementNotes>\n",
      "<FinancialStatements> <CompanyName>Apple Inc. </CompanyName>|\n",
      "<Quarter>Q3 </Quarter><Year>2022 </Year>Form 10-Q |\n",
      "<Form10-QFilingDate>3 </Form10-QFilingDate></FinancialStatements>\n",
      "CONDENSED CONSOLIDATED STATEMENTS OF SHAR...\n",
      "********************************\n"
     ]
    }
   ],
   "source": [
    "reader.min_text_length = 1024 * 4 # ~1k tokens\n",
    "reader.max_text_length = 1024 * 24  # ~6k tokens\n",
    "reader.include_xml_tags = True\n",
    "reader.include_project_metadata_in_doc_metadata = False\n",
    "chunks = reader.load_data(docset_id=docset_id)\n",
    "\n",
    "for chunk in chunks[:5]:\n",
    "    print(chunk)\n",
    "    print(\"*\" * 32)"
   ]
  },
  {
   "attachments": {},
   "cell_type": "markdown",
   "metadata": {},
   "source": [
    "## Basic Use: Docugami Reader for Document QA\n",
    "\n",
    "You can use the Docugami Reader like a standard reader for Document QA over multiple docs, albeit with much better chunks that follow the natural contours of the document. There are many great tutorials on how to do this, e.g. [this one](https://gpt-index.readthedocs.io/en/latest/getting_started/starter_example.html). We can just use the same code, but use the `DocugamiReader` for better chunking, instead of loading text or PDF files directly with basic splitting techniques."
   ]
  },
  {
   "attachments": {},
   "cell_type": "markdown",
   "metadata": {},
   "source": [
    "The documents returned by the reader are already split into chunks. Optionally, we can use the metadata on each chunk, for example the structure or tag attributes, to do any post-processing we want.\n",
    "\n",
    "We will just use the output of the `DocugamiReader` as-is to set up a query engine the usual way."
   ]
  },
  {
   "cell_type": "code",
   "execution_count": 65,
   "metadata": {},
   "outputs": [],
   "source": [
    "import chromadb\n",
    "from llama_index import VectorStoreIndex, ServiceContext\n",
    "from llama_index.embeddings import OpenAIEmbedding\n",
    "from llama_index.storage.storage_context import StorageContext\n",
    "from llama_index.vector_stores import ChromaVectorStore\n",
    "\n",
    "db = chromadb.PersistentClient(path=\"/tmp/docugami/chroma_db\")\n",
    "chroma_collection = db.get_or_create_collection(\"docugami_test\")\n",
    "embed_model = OpenAIEmbedding()\n",
    "\n",
    "vector_store = ChromaVectorStore(chroma_collection=chroma_collection)\n",
    "storage_context = StorageContext.from_defaults(vector_store=vector_store)\n",
    "service_context = ServiceContext.from_defaults(embed_model=embed_model)\n",
    "\n",
    "index = VectorStoreIndex.from_documents(\n",
    "    chunks, storage_context=storage_context, service_context=service_context\n",
    ")\n",
    "\n",
    "query_engine = index.as_query_engine(similarity_top_k=5)"
   ]
  },
  {
   "cell_type": "code",
   "execution_count": 66,
   "metadata": {},
   "outputs": [
    {
     "data": {
      "text/plain": [
       "[NodeWithScore(node=TextNode(id_='13e19753-b4af-4ec9-9cb0-2507992e4836', embedding=None, metadata={'xpath': '/dg:chunk/dg:chunk/dg:chunk[2]/dg:chunk[2]/dg:chunk[7]', 'id': 'a8862469fb69a5d4b316ebd22d63991d', 'name': '2023 Q3 MSFT.pdf', 'structure': 'lim h1 h1 lim lim lim lim p lim lim h1 h1 table p p p h1 table h1 p p p h1 table', 'tag': 'chunk table ResearchandDevelopmentExpenses RDExpenses SalesandMarketingExpenses', 'Financial Reporting Period': 'For the  Quarterly Period  Ended  September 30, 2023', 'Company': 'MICROSOFT CORPORATION'}, excluded_embed_metadata_keys=[], excluded_llm_metadata_keys=['xpath', 'id', 'structure'], relationships={<NodeRelationship.SOURCE: '1'>: RelatedNodeInfo(node_id='01ccab79-9d91-44f0-9cc6-349f6994b008', node_type=<ObjectType.DOCUMENT: '4'>, metadata={'xpath': '/dg:chunk/dg:chunk/dg:chunk[2]/dg:chunk[2]/dg:chunk[7]', 'id': 'a8862469fb69a5d4b316ebd22d63991d', 'name': '2023 Q3 MSFT.pdf', 'structure': 'lim h1 h1 lim lim lim lim p lim lim h1 h1 table p p p h1 table h1 p p p h1 table', 'tag': 'chunk table ResearchandDevelopmentExpenses RDExpenses SalesandMarketingExpenses', 'Financial Reporting Period': 'For the  Quarterly Period  Ended  September 30, 2023', 'Company': 'MICROSOFT CORPORATION'}, hash='a4ed6d8c23978c736b0a61c126c1fd56b64407f6396433e2411573e1b5588634'), <NodeRelationship.PREVIOUS: '2'>: RelatedNodeInfo(node_id='4076d5de-2910-4085-a08a-65779ed12f5d', node_type=<ObjectType.TEXT: '1'>, metadata={'xpath': '/dg:chunk/dg:chunk/dg:chunk[2]/dg:chunk[2]/dg:chunk[6]/dg:chunk[1]', 'id': '841218300130fab3f067a65c3b8ae14b', 'name': '2023 Q3 MSFT.pdf', 'structure': 'p h1 table h1 p h1 p h1 p h1 div h1 p lim lim lim lim p lim lim h1 p lim lim p p p lim p', 'tag': 'chunk table DiscountPercentage RevenueGrowth GrossMarginIncrease', 'Financial Reporting Period': 'For the  Quarterly Period  Ended  September 30, 2023', 'Company': 'MICROSOFT CORPORATION'}, hash='416317dba031a02179f0c65f6ecba18d1bf870845b28c9a7749f10f9cffe1c63'), <NodeRelationship.NEXT: '3'>: RelatedNodeInfo(node_id='53bd10dd-662c-494b-a9ec-dc2c8b7d5bd3', node_type=<ObjectType.TEXT: '1'>, metadata={}, hash='66d79b126f33786b836e483ef15710a5c804dc95d8c8c50f37ed9c6cf1a2ed1a')}, hash='33acac85a0b6f9159c8605191d0d01cb232d7013a3954821f31320f14d4e5a2e', text='• Operating expenses increased <OperatingExpenseIncrease>$86 million </OperatingExpenseIncrease>or <OperatingExpenseIncrease>2% </OperatingExpenseIncrease>driven by investments in <AzureInvestments>Azure </AzureInvestments>and other cloud services.\\n More Personal Computing\\n Revenue increased <RevenueIncrease>$334 million </RevenueIncrease>or <RevenueGrowth>3%</RevenueGrowth>.\\n • Windows revenue increased <WindowsRevenueIncrease>$254 million </WindowsRevenueIncrease>or <WindowsRevenueGrowth>5% </WindowsRevenueGrowth>driven by growth in Windows Commercial and Windows OEM. Windows Commercial products and cloud services revenue increased <WindowsCommercialRevenueGrowth>8% </WindowsCommercialRevenueGrowth>driven by demand for <WindowsRevenue>Microsoft </WindowsRevenue>365. Windows OEM revenue increased <WindowsRevenueGrowth>4%</WindowsRevenueGrowth>.\\n • Gaming revenue increased <GamingRevenueIncrease>$309 million </GamingRevenueIncrease>or <GamingRevenueGrowth>9% </GamingRevenueGrowth>driven by growth in Xbox content and services. Xbox content and services revenue increased <XboxContentandServicesRevenueGrowth>13% </XboxContentandServicesRevenueGrowth>driven by growth in first-party content and Xbox Game Pass. Xbox hardware revenue decreased <XboxRevenueGrowth>7% </XboxRevenueGrowth>driven by lower volume of consoles sold, offset in part by higher price of consoles sold.\\n • Search and news advertising revenue increased <SearchandNewsAdvertisingRevenueIncrease>$140 million </SearchandNewsAdvertisingRevenueIncrease>or <SearchandNewsAdvertisingRevenueGrowth>5%</SearchandNewsAdvertisingRevenueGrowth>. Search and news advertising revenue excluding traffic acquisition costs increased <SearchandNewsAdvertisingRevenueGrowth>10% </SearchandNewsAdvertisingRevenueGrowth>driven by higher search volume.\\n • Devices revenue decreased <DevicesRevenueDecrease>$323 million </DevicesRevenueDecrease>or <DevicesRevenueDecrease>22%</DevicesRevenueDecrease>.\\n Operating income increased <OperatingIncomeIncrease>$957 million </OperatingIncomeIncrease>or <OperatingIncomeIncrease>23%</OperatingIncomeIncrease>.\\n • Gross margin increased <GrossMarginIncrease>$920 million </GrossMarginIncrease>or <GrossMarginIncrease>13% </GrossMarginIncrease>driven by growth in Gaming and Windows. Gross margin percentage increased primarily driven by sales mix shift.\\n • Operating expenses decreased <OperatingExpenseDecrease>$37 million </OperatingExpenseDecrease>or <OperatingExpenseDecrease>1% </OperatingExpenseDecrease>driven by a decline in Devices, offset in part by investments in Gaming.', start_char_idx=0, end_char_idx=2587, text_template='{metadata_str}\\n\\n{content}', metadata_template='{key}: {value}', metadata_seperator='\\n'), score=0.740789201790922),\n",
       " NodeWithScore(node=TextNode(id_='5bf6faf4-8f04-4f7f-aa18-f6e1edca8ef7', embedding=None, metadata={'xpath': '/dg:chunk/docset:NOTE14CONTINGENCIES-section/docset:NOTE14CONTINGENCIES/dg:chunk[2]/docset:KeyChangesinOperatingExpensesWere-section[2]/dg:chunk', 'id': 'c584a9506095bdc454587a35b1f9e27a', 'name': '2023 Q1 MSFT.pdf', 'structure': 'p h1 lim lim p', 'tag': 'OperatingExpensesIncrease chunk SalesandMarketingExpenses', 'Financial Reporting Period': 'For the  Quarterly Period  Ended  December 31, 2022', 'Company': 'MICROSOFT CORPORATION'}, excluded_embed_metadata_keys=[], excluded_llm_metadata_keys=['xpath', 'id', 'structure'], relationships={<NodeRelationship.SOURCE: '1'>: RelatedNodeInfo(node_id='c6080bf3-eb29-4901-a241-b4a62f70760b', node_type=<ObjectType.DOCUMENT: '4'>, metadata={'xpath': '/dg:chunk/docset:NOTE14CONTINGENCIES-section/docset:NOTE14CONTINGENCIES/dg:chunk[2]/docset:KeyChangesinOperatingExpensesWere-section[2]/dg:chunk', 'id': 'c584a9506095bdc454587a35b1f9e27a', 'name': '2023 Q1 MSFT.pdf', 'structure': 'p h1 lim lim p', 'tag': 'OperatingExpensesIncrease chunk SalesandMarketingExpenses', 'Financial Reporting Period': 'For the  Quarterly Period  Ended  December 31, 2022', 'Company': 'MICROSOFT CORPORATION'}, hash='4472ee1e0ecea44792c9cc153b6034c1e0a3da020858d6522490982bfa42bae5'), <NodeRelationship.PREVIOUS: '2'>: RelatedNodeInfo(node_id='8d9fffa7-ca3b-4b10-af8a-f4eb060163a6', node_type=<ObjectType.TEXT: '1'>, metadata={'xpath': '/dg:chunk/docset:NOTE14CONTINGENCIES-section/docset:NOTE14CONTINGENCIES/dg:chunk[2]/docset:KeyChangesinOperatingExpensesWere-section[1]/docset:KeyChangesinOperatingExpensesWere/dg:chunk[1]/dg:chunk/docset:GrossMarginIncrease', 'id': 'bfc9c6beb45a528376830a187c4d6975', 'name': '2023 Q1 MSFT.pdf', 'structure': 'p lim p lim', 'tag': 'GrossMarginIncrease chunk GrossMarginPercentage', 'Financial Reporting Period': 'For the  Quarterly Period  Ended  December 31, 2022', 'Company': 'MICROSOFT CORPORATION'}, hash='90f2c7eb3060e2ec324e1d86dd820a862b435bca8435c68d281116ba6b18d84f'), <NodeRelationship.NEXT: '3'>: RelatedNodeInfo(node_id='b590dc46-bd30-43a7-8fbe-67b9677f7488', node_type=<ObjectType.TEXT: '1'>, metadata={}, hash='ecba41266067ba2a92a9de5e2b57a3ef04dec487f741b64b8317282f0c052f39')}, hash='d95d822bf1fb5ed122be7880c8b3163772d0243050c0dc1e58e946958cc511b4', text='<OperatingExpensesIncrease> Operating expenses increased <OperatingExpenseIncrease>$4.1 billion </OperatingExpenseIncrease>or <OperatingExpenseIncrease>17% </OperatingExpenseIncrease>driven by investment in cloud engineering, employee severance expenses, LinkedIn, the Nuance acquisition, and commercial sales. </OperatingExpensesIncrease>\\n Key changes in operating expenses were:\\n • Research and development expenses increased <ResearchandDevelopmentExpenses>$2.1 billion </ResearchandDevelopmentExpenses>or <RDExpenseGrowth>19% </RDExpenseGrowth>driven by investments in cloud engineering and <LinkedInInvestments>LinkedIn</LinkedInInvestments>.\\n • <SalesandMarketingExpenses>Sales and marketing expenses increased <SalesandMarketingExpenseIncrease>$879 million </SalesandMarketingExpenseIncrease>or <SalesandMarketingExpenseIncrease>9% </SalesandMarketingExpenseIncrease>driven by investments in commercial sales and the Nuance acquisition. Sales and marketing included a favorable foreign currency impact of <SalesandMarketingExpense>4%</SalesandMarketingExpense>. </SalesandMarketingExpenses>', start_char_idx=0, end_char_idx=1097, text_template='{metadata_str}\\n\\n{content}', metadata_template='{key}: {value}', metadata_seperator='\\n'), score=0.7175894420024171)]"
      ]
     },
     "execution_count": 66,
     "metadata": {},
     "output_type": "execute_result"
    }
   ],
   "source": [
    "retriever = index.as_retriever()\n",
    "retriever.retrieve(\"How much did Microsoft spend for opex in the latest quarter?\")"
   ]
  },
  {
   "cell_type": "code",
   "execution_count": 67,
   "metadata": {},
   "outputs": [
    {
     "name": "stdout",
     "output_type": "stream",
     "text": [
      "Microsoft spent $86 million for operating expenses in the latest quarter.\n"
     ]
    }
   ],
   "source": [
    "# Try out the query engine with example query\n",
    "response = query_engine.query(\"How much did Microsoft spend for opex in the latest quarter?\")\n",
    "print(response.response)"
   ]
  },
  {
   "cell_type": "code",
   "execution_count": 68,
   "metadata": {},
   "outputs": [
    {
     "name": "stdout",
     "output_type": "stream",
     "text": [
      "2023 Q3 MSFT.pdf\n",
      "• Operating expenses increased <OperatingExpenseIncrease>$86 million </OperatingExpenseIncrease>or <OperatingExpenseIncrease>2% </OperatingExpenseIncrease>driven by investments in <AzureInvestments>Azure </AzureInvestments>and other cloud services.\n",
      " More Personal Computing\n",
      " Revenue increased <RevenueIncrease>$334 million </RevenueIncrease>or <RevenueGrowth>3%</RevenueGrowth>.\n",
      " • Windows revenue increased <WindowsRevenueIncrease>$254 million </WindowsRevenueIncrease>or <WindowsRevenueGrowth>5% </WindowsRevenueGrowth>driven by growth in Windows Commercial and Windows OEM. Windows Commercial products and cloud services revenue increased <WindowsCommercialRevenueGrowth>8% </WindowsCommercialRevenueGrowth>driven by demand for <WindowsRevenue>Microsoft </WindowsRevenue>365. Windows OEM revenue increased <WindowsRevenueGrowth>4%</WindowsRevenueGrowth>.\n",
      " • Gaming revenue increased <GamingRevenueIncrease>$309 million </GamingRevenueIncrease>or <GamingRevenueGrowth>9% </GamingRevenueGrowth>driven by growth in Xbox content and services. Xbox content and services revenue increased <XboxContentandServicesRevenueGrowth>13% </XboxContentandServicesRevenueGrowth>driven by growth in first-party content and Xbox Game Pass. Xbox hardware revenue decreased <XboxRevenueGrowth>7% </XboxRevenueGrowth>driven by lower volume of consoles sold, offset in part by higher price of consoles sold.\n",
      " • Search and news advertising revenue increased <SearchandNewsAdvertisingRevenueIncrease>$140 million </SearchandNewsAdvertisingRevenueIncrease>or <SearchandNewsAdvertisingRevenueGrowth>5%</SearchandNewsAdvertisingRevenueGrowth>. Search and news advertising revenue excluding traffic acquisition costs increased <SearchandNewsAdvertisingRevenueGrowth>10% </SearchandNewsAdvertisingRevenueGrowth>driven by higher search volume.\n",
      " • Devices revenue decreased <DevicesRevenueDecrease>$323 million </DevicesRevenueDecrease>or <DevicesRevenueDecrease>22%</DevicesRevenueDecrease>.\n",
      " Operating income increased <OperatingIncomeIncrease>$957 million </OperatingIncomeIncrease>or <OperatingIncomeIncrease>23%</OperatingIncomeIncrease>.\n",
      " • Gross margin increased <GrossMarginIncrease>$920 million </GrossMarginIncrease>or <GrossMarginIncrease>13% </GrossMarginIncrease>driven by growth in Gaming and Windows. Gross margin percentage increased primarily driven by sales mix shift.\n",
      " • Operating expenses decreased <OperatingExpenseDecrease>$37 million </OperatingExpenseDecrease>or <OperatingExpenseDecrease>1% </OperatingExpenseDecrease>driven by a decline in Devices, offset in part by investments in Gaming.\n",
      "2023 Q1 MSFT.pdf\n",
      "<OperatingExpensesIncrease> Operating expenses increased <OperatingExpenseIncrease>$4.1 billion </OperatingExpenseIncrease>or <OperatingExpenseIncrease>17% </OperatingExpenseIncrease>driven by investment in cloud engineering, employee severance expenses, LinkedIn, the Nuance acquisition, and commercial sales. </OperatingExpensesIncrease>\n",
      " Key changes in operating expenses were:\n",
      " • Research and development expenses increased <ResearchandDevelopmentExpenses>$2.1 billion </ResearchandDevelopmentExpenses>or <RDExpenseGrowth>19% </RDExpenseGrowth>driven by investments in cloud engineering and <LinkedInInvestments>LinkedIn</LinkedInInvestments>.\n",
      " • <SalesandMarketingExpenses>Sales and marketing expenses increased <SalesandMarketingExpenseIncrease>$879 million </SalesandMarketingExpenseIncrease>or <SalesandMarketingExpenseIncrease>9% </SalesandMarketingExpenseIncrease>driven by investments in commercial sales and the Nuance acquisition. Sales and marketing included a favorable foreign currency impact of <SalesandMarketingExpense>4%</SalesandMarketingExpense>. </SalesandMarketingExpenses>\n",
      "2023 Q2 MSFT.pdf\n",
      "<OperatingExpenses> Operating expenses increased <OperatingExpenseIncrease>$996 million </OperatingExpenseIncrease>or <OperatingExpenseGrowth>7% </OperatingExpenseGrowth>driven by <OperatingExpenses>2 </OperatingExpenses>points of growth from the Nuance and <AcquisitionGrowth>Xandr </AcquisitionGrowth>acquisitions and investments in cloud engineering and <LinkedInInvestments>LinkedIn</LinkedInInvestments>. </OperatingExpenses>\n",
      " Key changes in operating expenses were:\n",
      " • Research and development expenses increased <RDExpenseIncrease>$678 million </RDExpenseIncrease>or <RDExpenseGrowth>11% </RDExpenseGrowth>driven by investments in cloud engineering and <RDInvestments>LinkedIn</RDInvestments>.\n",
      " • <SalesandMarketingExpenses>Sales and marketing expenses increased <SalesandMarketingExpenseIncrease>$155 million </SalesandMarketingExpenseIncrease>or <SalesandMarketingExpenseGrowth>3% </SalesandMarketingExpenseGrowth>driven by <SalesandMarketingExpenseGrowth>3 </SalesandMarketingExpenseGrowth>points of growth from the Nuance and <AcquisitionImpact>Xandr </AcquisitionImpact>acquisitions and investments in commercial sales, offset in part by declines in Windows and Devices advertising. </SalesandMarketingExpenses>\n",
      "2022 Q3 MSFT.pdf\n",
      "• Research and development expenses increased <ResearchandDevelopmentExpenses>$1.0 billion </ResearchandDevelopmentExpenses>or <ResearchandDevelopmentExpenseIncrease>18% </ResearchandDevelopmentExpenseIncrease>driven by investments in cloud engineering and <ResearchandDevelopmentInvestments>LinkedIn</ResearchandDevelopmentInvestments>. Research and development included a favorable foreign currency impact of <ForeignCurrencyImpact>2%</ForeignCurrencyImpact>.\n",
      " • Sales and marketing expenses increased <SalesandMarketingExpenseIncrease>$579 million </SalesandMarketingExpenseIncrease>or <SalesandMarketingExpenseIncrease>13% </SalesandMarketingExpenseIncrease>driven by investments in commercial sales, Nuance, and <LinkedInInvestment>LinkedIn</LinkedInInvestment>. Sales and marketing included a favorable foreign currency impact of <ForeignCurrencyImpact>4%</ForeignCurrencyImpact>.\n",
      " • General and administrative expenses increased <GeneralandAdministrativeExpenseIncrease>$111 million </GeneralandAdministrativeExpenseIncrease>or <GeneralandAdministrativeExpenseIncrease>9% </GeneralandAdministrativeExpenseIncrease>driven by investments in corporate functions. General and administrative included a favorable foreign currency impact of <ForeignCurrencyImpact>3%</ForeignCurrencyImpact>.\n",
      "2023 Q1 MSFT.pdf\n",
      "• <Org>Microsoft </Org>Cloud gross margin percentage increased <MicrosoftCloudGrossMarginPercentage>2 </MicrosoftCloudGrossMarginPercentage>points to <MicrosoftCloudGrossMarginPercentage>72%</MicrosoftCloudGrossMarginPercentage>. Excluding the impact of the change in accounting estimate, <CloudGrossMarginPercentage>Microsoft </CloudGrossMarginPercentage>Cloud gross margin percentage decreased <MicrosoftCloudGrossMarginPercentage>1 </MicrosoftCloudGrossMarginPercentage>point driven by sales mix shift to <AzureGrossMarginPercentage>Azure </AzureGrossMarginPercentage>and other cloud services and higher energy costs.\n",
      " <OperatingExpensesIncrease> Operating expenses increased <OperatingExpenseIncrease>$2.3 billion </OperatingExpenseIncrease>or <OperatingExpenseIncrease>19% </OperatingExpenseIncrease>driven by employee severance expenses, investments in cloud engineering, the Nuance acquisition, and <LinkedInAcquisition>LinkedIn</LinkedInAcquisition>. </OperatingExpensesIncrease>\n",
      " Key changes in operating expenses were:\n",
      " • Research and development expenses increased <ResearchandDevelopmentExpenses>$1.1 billion </ResearchandDevelopmentExpenses>or <ResearchandDevelopmentExpenseIncrease>19% </ResearchandDevelopmentExpenseIncrease>driven by investments in cloud engineering, impairment charges resulting from changes to our hardware portfolio, and <LinkedInImpact>LinkedIn</LinkedInImpact>. Research and development included a favorable foreign currency impact of <ForeignCurrencyImpact>2%</ForeignCurrencyImpact>.\n"
     ]
    }
   ],
   "source": [
    "for node in response.source_nodes:\n",
    "    print(node.node.extra_info[\"name\"])\n",
    "    print(node.node.text)"
   ]
  },
  {
   "attachments": {},
   "cell_type": "markdown",
   "metadata": {},
   "source": [
    "## Using Docugami to Add Metadata to Chunks for High Accuracy Document QA\n",
    "\n",
    "One issue with large documents is that the correct answer to your question may depend on chunks that are far apart in the document. Typical chunking techniques, even with overlap, will struggle with providing the LLM sufficent context to answer such questions. With upcoming very large context LLMs, it may be possible to stuff a lot of tokens, perhaps even entire documents, inside the context but this will still hit limits at some point with very long documents, or a lot of documents.\n",
    "\n",
    "For example, if we ask a more complex question that requires the LLM to draw on chunks from different parts of the document, even OpenAI's powerful LLM is unable to answer correctly."
   ]
  },
  {
   "cell_type": "code",
   "execution_count": 69,
   "metadata": {},
   "outputs": [
    {
     "name": "stdout",
     "output_type": "stream",
     "text": [
      "As of April 2023, Apple has $2.0 billion of commercial paper outstanding.\n"
     ]
    }
   ],
   "source": [
    "response = query_engine.query(\n",
    "    \"How much commercial paper does apple have outstanding as of April 2023?\"\n",
    ")\n",
    "print(response.response)  # the correct answer should be 2.7%, listed on page 24 of \"2023 Q2 MSFT.pdf\""
   ]
  },
  {
   "cell_type": "code",
   "execution_count": 70,
   "metadata": {},
   "outputs": [
    {
     "name": "stdout",
     "output_type": "stream",
     "text": [
      "2023 Q2 AAPL.pdf\n",
      "645</Number>) </RepaymentsofCommercialPaperSixMonthsEndedApril1March2620232022></td> <td><RepaymentsofCommercialPaper>(<Number>5,144</Number>) </RepaymentsofCommercialPaper></td></tr> <tr><td><Maturities90DaysOrLessRepaymentsofCommercialPaperNet>Repayments of commercial paper, net </Maturities90DaysOrLessRepaymentsofCommercialPaperNet></td> <td><RepaymentsofCommercialPaperNetSixMonthsEndedApril1March2620232022>(<Number>2,645</Number>) </RepaymentsofCommercialPaperNetSixMonthsEndedApril1March2620232022></td> <td><RepaymentsofCommercialPaperNet>(<Number>3,953</Number>) </RepaymentsofCommercialPaperNet></td></tr><tr><td><Maturities90DaysOrLess/></td></tr> <tr><td><Maturities90DaysOrLessTotalProceedsFromRepaymentsofCommercialPaperNe>Total proceeds from/(repayments of) commercial paper, net </Maturities90DaysOrLessTotalProceedsFromRepaymentsofCommercialPaperNe></td> <td><TotalProceedsFromRepaymentsofCommercialPaperNetSixMonthsEndedApril1><Money>$ (7,960) </Money> <Money>$ </Money></TotalProceedsFromRepaymentsofCommercialPaperNetSixMonthsEndedApril1></td> <td><TotalProceedsFromRepaymentsofCommercialPaperNet>999 </TotalProceedsFromRepaymentsofCommercialPaperNet></td></tr></tbody></table>\n",
      " Term Debt\n",
      " As of April 1, 2023 and September 24, 2022, the Company had outstanding fixed-rate notes with varying maturities for an aggregate carrying amount of <OutstandingFixed-RateNotes>$107.6 billion </OutstandingFixed-RateNotes>and <OutstandingFixed-RateNotes>$110.1 billion</OutstandingFixed-RateNotes>, respectively (collectively the “Notes”). As of <NotesFairValue>April 1, 2023 </NotesFairValue>and <FairValueDate>September 24, 2022</FairValueDate>, the fair value of the Company’s Notes, based on Level <FairValueofNotes>2 </FairValueofNotes>inputs, was <FairValueofNotes>$98.4 billion </FairValueofNotes>and <FairValueofNotes>$98.8 billion</FairValueofNotes>, respectively.\n",
      "2023 Q2 AAPL.pdf\n",
      "Note 6 – Debt\n",
      " Commercial Paper\n",
      " <CommercialPaperSummary> The Company issues unsecured short-term promissory notes (“Commercial Paper”) pursuant to a commercial paper program. The Company uses net proceeds from the commercial paper program for general corporate purposes, including dividends and share repurchases. As of April 1, 2023 and <CommercialPaperOutstanding>September 24, 2022</CommercialPaperOutstanding>, the Company had <CommercialPaperOutstanding>$2.0 billion </CommercialPaperOutstanding>and <CommercialPaperOutstanding>$10.0 billion </CommercialPaperOutstanding>of Commercial Paper outstanding, respectively. The following table provides a summary of cash flows associated with the issuance and maturities of Commercial Paper for the <CommercialPaperCashFlows>six months </CommercialPaperCashFlows>ended <CommercialPaperOutstanding>April 1, 2023 </CommercialPaperOutstanding>and <CommercialPaperMaturities>March 26, 2022 </CommercialPaperMaturities>(in millions): </CommercialPaperSummary>\n",
      "2023 Q2 AAPL.pdf\n",
      "Note 6 – Debt\n",
      " Commercial Paper\n",
      " <CommercialPaperSummary> The Company issues unsecured short-term promissory notes (“Commercial Paper”) pursuant to a commercial paper program. The Company uses net proceeds from the commercial paper program for general corporate purposes, including dividends and share repurchases. As of April 1, 2023 and <CommercialPaperOutstanding>September 24, 2022</CommercialPaperOutstanding>, the Company had <CommercialPaperOutstanding>$2.0 billion </CommercialPaperOutstanding>and <CommercialPaperOutstanding>$10.0 billion </CommercialPaperOutstanding>of Commercial Paper outstanding, respectively. The following table provides a summary of cash flows associated with the issuance and maturities of Commercial Paper for the <CommercialPaperCashFlows>six months </CommercialPaperCashFlows>ended <CommercialPaperOutstanding>April 1, 2023 </CommercialPaperOutstanding>and <CommercialPaperMaturities>March 26, 2022 </CommercialPaperMaturities>(in millions): </CommercialPaperSummary>\n",
      "2023 Q3 AAPL.pdf\n",
      "Note 6 – Debt\n",
      " Commercial Paper\n",
      " <CommercialPaperCashFlows> The Company issues unsecured short-term promissory notes (“Commercial Paper”) pursuant to a commercial paper program. The Company uses net proceeds from the commercial paper program for general corporate purposes, including dividends and share repurchases. As of <CommercialPaperOutstanding>July 1, 2023 </CommercialPaperOutstanding>and <CommercialPaperOutstanding>September 24, 2022</CommercialPaperOutstanding>, the Company had <CommercialPaperOutstanding>$4.0 billion </CommercialPaperOutstanding>and <CommercialPaperOutstanding>$10.0 billion </CommercialPaperOutstanding>of Commercial Paper outstanding, respectively. The following table provides a summary of cash flows associated with the issuance and maturities of Commercial Paper for the <CommercialPaperCashFlows>nine months </CommercialPaperCashFlows>ended July 1, 2023 and <CommercialPaperMaturities>June 25, 2022 </CommercialPaperMaturities>(in millions): </CommercialPaperCashFlows>\n",
      "2023 Q3 AAPL.pdf\n",
      "Note 6 – Debt\n",
      " Commercial Paper\n",
      " <CommercialPaperCashFlows> The Company issues unsecured short-term promissory notes (“Commercial Paper”) pursuant to a commercial paper program. The Company uses net proceeds from the commercial paper program for general corporate purposes, including dividends and share repurchases. As of <CommercialPaperOutstanding>July 1, 2023 </CommercialPaperOutstanding>and <CommercialPaperOutstanding>September 24, 2022</CommercialPaperOutstanding>, the Company had <CommercialPaperOutstanding>$4.0 billion </CommercialPaperOutstanding>and <CommercialPaperOutstanding>$10.0 billion </CommercialPaperOutstanding>of Commercial Paper outstanding, respectively. The following table provides a summary of cash flows associated with the issuance and maturities of Commercial Paper for the <CommercialPaperCashFlows>nine months </CommercialPaperCashFlows>ended July 1, 2023 and <CommercialPaperMaturities>June 25, 2022 </CommercialPaperMaturities>(in millions): </CommercialPaperCashFlows>\n"
     ]
    }
   ],
   "source": [
    "for node in response.source_nodes:\n",
    "    print(node.node.extra_info[\"name\"])\n",
    "    print(node.node.text)"
   ]
  },
  {
   "attachments": {},
   "cell_type": "markdown",
   "metadata": {},
   "source": [
    "At first glance the answer may seem plausible, but if you review the source chunks carefully for this answer, you will see that the chunking of the document did not end up putting the Landlord name and the rentable area in the same context, since they are far apart in the document. The query engine therefore ends up finding unrelated chunks from other documents not even related to the **Birch Street** landlord. That landlord happens to be mentioned on the first page of the file **TruTone Lane 1.docx** file, and none of the source chunks used by the query engine contain the correct answer (**$78,000**), and the answer is therefore incorrect."
   ]
  },
  {
   "attachments": {},
   "cell_type": "markdown",
   "metadata": {},
   "source": [
    "Docugami can help here. Chunks are annotated with additional metadata created using different techniques if a user has been [using Docugami](https://help.docugami.com/home/reports). More technical approaches will be added later.\n",
    "\n",
    "Specifically, let's load the data again and this time let's ask the reader to include additional metadata that is returned on the documents returned by docugami after some additional use, in the form of some simple key/value pairs on all the text chunks:"
   ]
  },
  {
   "cell_type": "code",
   "execution_count": 71,
   "metadata": {},
   "outputs": [
    {
     "data": {
      "text/plain": [
       "{'xpath': '/dg:chunk/dg:chunk/dg:chunk[1]',\n",
       " 'id': '8d298e24da52d0b0220b9674f373f2fc',\n",
       " 'name': '2022 Q3 AAPL.pdf',\n",
       " 'structure': 'h1 h1 h1 p p p h1 p p p h1 p h1 p lim h1 p p h1 h1 h1 lim h1 lim h1 lim h1 lim lim h1 lim h1 lim h1 lim h1 lim h1 div lim p h1 h1 p h1 h1 div h1 h1 lim h1 p h1 div',\n",
       " 'tag': 'chunk ReportingPeriod FinancialReportingPeriod TransitionReport TransitionPeriod CompanyName Phone SecuritiesRegisteredPursuanttoSection12b TheNasdaqStockMarketLLC FilingCompliance'}"
      ]
     },
     "execution_count": 71,
     "metadata": {},
     "output_type": "execute_result"
    }
   ],
   "source": [
    "chunks[0].metadata"
   ]
  },
  {
   "cell_type": "markdown",
   "metadata": {},
   "source": [
    "Note semantic metadata tags like Lease Date, Landlord, Tenant, etc that are based on key chunks in the document even if they don't appear near the chunk in question."
   ]
  },
  {
   "cell_type": "code",
   "execution_count": 78,
   "metadata": {},
   "outputs": [],
   "source": [
    "from llama_index.indices.vector_store.retrievers import VectorIndexAutoRetriever\n",
    "from llama_index.vector_stores.types import MetadataInfo, VectorStoreInfo, VectorStoreQueryMode\n",
    "from llama_index.query_engine import RetrieverQueryEngine\n",
    "\n",
    "EXCLUDE_KEYS = [\"id\", \"xpath\", \"structure\"]\n",
    "metadata_field_info = [\n",
    "    MetadataInfo(\n",
    "        name=key,\n",
    "        description=f\"The {key} for this chunk\",\n",
    "        type=\"str\",\n",
    "    )\n",
    "    for key in chunks[0].metadata\n",
    "    if key.lower() not in EXCLUDE_KEYS\n",
    "]\n",
    "\n",
    "vector_store_info = VectorStoreInfo(\n",
    "    content_info=f\"Key metadata about {docset_name}\",\n",
    "    metadata_info=metadata_field_info,\n",
    ")\n",
    "retriever = VectorIndexAutoRetriever(\n",
    "    index,\n",
    "    vector_store_info=vector_store_info,\n",
    "    vector_store_query_mode=VectorStoreQueryMode.MMR,\n",
    "    similarity_top_k=10,\n",
    ")\n",
    "\n",
    "query_engine_auto_retriever = RetrieverQueryEngine.from_args(retriever=retriever)"
   ]
  },
  {
   "cell_type": "code",
   "execution_count": 79,
   "metadata": {},
   "outputs": [
    {
     "data": {
      "text/plain": [
       "[]"
      ]
     },
     "execution_count": 79,
     "metadata": {},
     "output_type": "execute_result"
    }
   ],
   "source": [
    "retriever.retrieve(\"How much did apple report for services revenue?\")"
   ]
  },
  {
   "attachments": {},
   "cell_type": "markdown",
   "metadata": {},
   "source": [
    "Let's run the same question again. It returns the correct result since all the chunks have metadata key/value pairs on them carrying key information about the document even if this information is physically very far away from the source chunk used to generate the answer."
   ]
  },
  {
   "cell_type": "code",
   "execution_count": 76,
   "metadata": {},
   "outputs": [
    {
     "name": "stdout",
     "output_type": "stream",
     "text": [
      "Empty Response\n"
     ]
    }
   ],
   "source": [
    "response = query_engine_auto_retriever.query(\n",
    "    \"How much commercial paper does apple have outstanding as of April 2023?\"\n",
    ")\n",
    "print(response.response)"
   ]
  },
  {
   "cell_type": "code",
   "execution_count": 75,
   "metadata": {},
   "outputs": [],
   "source": [
    "for node in response.source_nodes:\n",
    "    print(node.node.extra_info[\"name\"])\n",
    "    print(node.node.text)"
   ]
  }
 ],
 "metadata": {
  "kernelspec": {
   "display_name": "Python 3",
   "language": "python",
   "name": "python3"
  },
  "language_info": {
   "codemirror_mode": {
    "name": "ipython",
    "version": 3
   },
   "file_extension": ".py",
   "mimetype": "text/x-python",
   "name": "python",
   "nbconvert_exporter": "python",
   "pygments_lexer": "ipython3",
   "version": "3.9.16"
  },
  "orig_nbformat": 4
 },
 "nbformat": 4,
 "nbformat_minor": 2
}
