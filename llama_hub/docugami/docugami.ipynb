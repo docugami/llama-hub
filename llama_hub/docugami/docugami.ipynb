{
 "cells": [
  {
   "cell_type": "code",
   "execution_count": 1,
   "metadata": {},
   "outputs": [],
   "source": [
    "%load_ext autoreload\n",
    "%autoreload 2"
   ]
  },
  {
   "cell_type": "code",
   "execution_count": null,
   "metadata": {},
   "outputs": [],
   "source": [
    "%pip install llama_index chromadb lxml --quiet"
   ]
  },
  {
   "attachments": {},
   "cell_type": "markdown",
   "metadata": {},
   "source": [
    "# Docugami\n",
    "This notebook covers how to load documents from `Docugami`. See [README](./README.md) for more details, and the advantages of using this system over alternative data loaders.\n",
    "\n",
    "## Prerequisites\n",
    "1. Follow the Quick Start section in [README](./README.md)\n",
    "2. Grab an access token for your workspace, and make sure it is set as the DOCUGAMI_API_KEY environment variable\n",
    "3. Grab some docset and document IDs for your processed documents, as described here: https://help.docugami.com/home/docugami-api"
   ]
  },
  {
   "attachments": {},
   "cell_type": "markdown",
   "metadata": {},
   "source": [
    "## Load Documents\n",
    "\n",
    "If the DOCUGAMI_API_KEY environment variable is set, there is no need to pass it in to the loader explicitly otherwise you can pass it in as the `access_token` parameter."
   ]
  },
  {
   "cell_type": "code",
   "execution_count": 3,
   "metadata": {},
   "outputs": [
    {
     "data": {
      "text/plain": [
       "91"
      ]
     },
     "execution_count": 3,
     "metadata": {},
     "output_type": "execute_result"
    }
   ],
   "source": [
    "from base import DocugamiReader\n",
    "\n",
    "docset_id = \"26xpy3aes7xp\"\n",
    "document_ids = [\"d7jqdzcj50sj\", \"cgd1eacfkchw\"]\n",
    "\n",
    "reader = DocugamiReader()\n",
    "chunks = reader.load_data(docset_id=docset_id, document_ids=document_ids)\n",
    "\n",
    "len(chunks)"
   ]
  },
  {
   "cell_type": "markdown",
   "metadata": {},
   "source": [
    "The `metadata` for each `Document` (really, a chunk of an actual PDF, DOC or DOCX) contains some useful additional information:\n",
    "\n",
    "1. **id and name:** ID and Name of the file (PDF, DOC or DOCX) the chunk is sourced from within Docugami.\n",
    "2. **xpath:** XPath inside the XML representation of the document, for the chunk. Useful for source citations directly to the actual chunk inside the document XML.\n",
    "3. **structure:** Structural attributes of the chunk, e.g. h1, h2, div, table, td, etc. Useful to filter out certain kinds of chunks if needed by the caller.\n",
    "4. **tag:** Semantic tag for the chunk, using various generative and extractive techniques. More details here: https://github.com/docugami/DFM-benchmarks\n",
    "\n",
    "You can control chunking behavior by setting the following properties on the `DocugamiReader` instance:\n",
    "\n",
    "1. There is a minimum chunk size of 32 that can be changed. Chunks smaller than the minimum size are appended to subsequent chunks. You can set `reader.min_chunk_size = 0` to get all structural chunks regardless of size or `reader.min_chunk_size = 1024` to get very large chunks.\n",
    "2. By default, only the text for chunks is returned. However, Docugami's XML knowledge graph has additional rich information including semantic tags for entities inside the chunk. Set `reader.include_xml_tags = True` if you want the additional xml metadata on the returned chunks."
   ]
  },
  {
   "cell_type": "code",
   "execution_count": 4,
   "metadata": {},
   "outputs": [
    {
     "name": "stdout",
     "output_type": "stream",
     "text": [
      "MASTER SERVICES AGREEMENT Services Agreement (the “Agreement”) sets forth terms under which <Company>MagicSoft, Inc. </Company>a <Org><USState>Washington </USState>Corporation </Org>(“Company”) located at <CompanyAddress><CompanyStreetAddress><Company>600 </Company><Company>4th Ave</Company></CompanyStreetAddress>, <Company>Seattle</Company>, <Client>WA </Client><ProvideServices>98104 </ProvideServices></CompanyAddress>shall provide services to <Client>Daltech, Inc.</Client>, a <Company><USState>Washington </USState>Corporation </Company>(the “Client”) located at <ClientAddress><ClientStreetAddress><Client>701 </Client><Client>1st St</Client></ClientStreetAddress>, <Client>Kirkland</Client>, <State>WA </State><Client>98033</Client></ClientAddress>. This Agreement is effective as of <EffectiveDate>February 15, 2021 </EffectiveDate>(“Effective Date”).\n",
      "{'xpath': '/dg:chunk/docset:MASTERSERVICESAGREEMENT-section/docset:MASTERSERVICESAGREEMENT/dg:chunk[1]/docset:ThisServicesAgreement', 'id': 'cgd1eacfkchw', 'name': 'Master Services Agreement - Daltech.docx', 'structure': 'p', 'tag': 'ThisServicesAgreement', 'Liability': '', 'Workers Compensation Insurance': '$1,000,000', 'Limit': '$1,000,000', 'Commercial General Liability Insurance': '$2,000,000', 'Technology Professional Liability Errors Omissions Policy': '$5,000,000', 'Excess Liability Umbrella Coverage': '$9,000,000', 'Client': 'Daltech, Inc.', 'Services Agreement Date': 'INITIAL STATEMENT  OF WORK (SOW)  The purpose of this SOW is to describe the Software and Services that Company will initially provide to  Daltech, Inc.  the “Client”) under the terms and conditions of the  Services Agreement  entered into between the parties on  June 15, 2021', 'Completion of the Services by Company Date': 'February 15, 2022', 'Charge': 'one hundred percent (100%)', 'Company': 'MagicSoft, Inc.', 'Effective Date': 'February 15, 2021', 'Start Date': '03/15/2021', 'Scheduled Onsite Visits Are Cancelled': 'ten (10) working days', 'Limit on Liability': '', 'Liability Cap': '', 'Business Automobile Liability': 'Business Automobile Liability  covering all vehicles that Company owns, hires or leases with a limit of no less than  $1,000,000  (combined single limit for bodily injury and property damage) for each accident.', 'Contractual Liability Coverage': 'Commercial General Liability insurance including  Contractual Liability Coverage , with coverage for products liability, completed operations, property damage and bodily injury, including  death , with an aggregate limit of no less than  $2,000,000 . This policy shall name Client as an additional insured with respect to the provision of services provided under this Agreement. This policy shall include a waiver of subrogation against Client.', 'Technology Professional Liability Errors Omissions': 'Technology Professional Liability Errors & Omissions policy (which includes Cyber Risk coverage and Computer Security and Privacy Liability coverage) with a limit of no less than  $5,000,000  per occurrence and in the aggregate.'}\n"
     ]
    }
   ],
   "source": [
    "reader.min_chunk_size = 0\n",
    "reader.include_xml_tags = True\n",
    "chunks = reader.load_data(docset_id=docset_id, document_ids=document_ids)\n",
    "\n",
    "print(chunks[0].text)\n",
    "print(chunks[0].metadata)"
   ]
  },
  {
   "attachments": {},
   "cell_type": "markdown",
   "metadata": {},
   "source": [
    "## Basic Use: Docugami Loader for Document QA\n",
    "\n",
    "You can use the Docugami Loader like a standard loader for Document QA over multiple docs, albeit with much better chunks that follow the natural contours of the document. There are many great tutorials on how to do this, e.g. [this one](https://gpt-index.readthedocs.io/en/latest/getting_started/starter_example.html). We can just use the same code, but use the `DocugamiLoader` for better chunking, instead of loading text or PDF files directly with basic splitting techniques."
   ]
  },
  {
   "cell_type": "code",
   "execution_count": 5,
   "metadata": {},
   "outputs": [
    {
     "name": "stdout",
     "output_type": "stream",
     "text": [
      "5622\n",
      "OFFICE LEASE \n",
      "\n",
      "                THIS OFFICE LEASE <LeaseDate>March 29th, 2019</LeaseDate>, by and between Landlord and Tenant. \"Date of this Lease\" shall mean the date on which the last one of the Landlord and Tenant has signed this Lease.\n",
      "{'xpath': '/docset:OFFICELEASE-section/docset:OFFICELEASE-section/dg:chunk/docset:Lease', 'id': 'cpzwzcurck2t', 'name': 'Sample Commercial Leases/Shorebucks LLC_AZ.pdf', 'structure': 'p'}\n"
     ]
    }
   ],
   "source": [
    "# For this example, we already have a processed docset for a set of lease documents\n",
    "docset_id = \"zo954yqy53wp\"\n",
    "chunks = reader.load_data(docset_id=docset_id)\n",
    "\n",
    "# strip semantic metadata intentionally, to test how things work without semantic metadata\n",
    "for chunk in chunks:\n",
    "    stripped_metadata = chunk.metadata.copy()\n",
    "    for key in chunk.metadata:\n",
    "        if key not in [\"name\", \"xpath\", \"id\", \"structure\"]:\n",
    "            # remove semantic metadata\n",
    "            del stripped_metadata[key]\n",
    "    chunk.metadata = stripped_metadata\n",
    "\n",
    "print(len(chunks))\n",
    "print(chunks[0].text)\n",
    "print(chunks[0].metadata)"
   ]
  },
  {
   "attachments": {},
   "cell_type": "markdown",
   "metadata": {},
   "source": [
    "The documents returned by the loader are already split into chunks. Optionally, we can use the metadata on each chunk, for example the structure or tag attributes, to do any post-processing we want.\n",
    "\n",
    "We will just use the output of the `DocugamiReader` as-is to set up a query engine the usual way."
   ]
  },
  {
   "cell_type": "code",
   "execution_count": 14,
   "metadata": {},
   "outputs": [],
   "source": [
    "import uuid\n",
    "from llama_index import VectorStoreIndex, ServiceContext, StorageContext\n",
    "from llama_index.llms import LangChainLLM\n",
    "from llama_index.embeddings import LangchainEmbedding\n",
    "\n",
    "# pick other providers and swap as needed\n",
    "from llama_index.vector_stores import ChromaVectorStore\n",
    "from langchain.chat_models.openai import ChatOpenAI\n",
    "from langchain.embeddings import OpenAIEmbeddings\n",
    "import chromadb\n",
    "\n",
    "def create_query_engine(chunks):\n",
    "    llm = LangChainLLM(ChatOpenAI())\n",
    "    embeddings = LangchainEmbedding(OpenAIEmbeddings())\n",
    "\n",
    "    chroma_client = chromadb.EphemeralClient()\n",
    "    chroma_collection = chroma_client.create_collection(\"docugami_test_\" + str(uuid.uuid4()))\n",
    "    vector_store = ChromaVectorStore(chroma_collection=chroma_collection)\n",
    "\n",
    "    storage_context = StorageContext.from_defaults(vector_store=vector_store)\n",
    "    service_context = ServiceContext.from_defaults(llm=llm, embed_model=embeddings)\n",
    "\n",
    "    index = VectorStoreIndex.from_documents(\n",
    "        chunks, storage_context=storage_context, service_context=service_context\n",
    "    )\n",
    "\n",
    "    return index.as_query_engine(similarity_top_k=3)"
   ]
  },
  {
   "cell_type": "code",
   "execution_count": 7,
   "metadata": {},
   "outputs": [
    {
     "name": "stdout",
     "output_type": "stream",
     "text": [
      "Tenants can install permitted signs, awnings, protective gates, security devices, and other installations on their properties. However, they must ensure that these installations are professionally prepared and dignified, and they need to obtain the landlord's prior written approval. The size, color, illumination, and general appearance of the proposed signs and installations should be submitted to the landlord for review. Tenants are not allowed to install neon signs, and any changes to the signs and installations must first be approved by the landlord. Additionally, tenants are responsible for obtaining any necessary permits or certificates of approval from relevant authorities and maintaining the signs and installations in good order and condition.\n",
      "\n",
      "Node ID: 0b98d9a4-9378-4ace-9f54-4274e787b33c\n",
      "Text: 44. Signs And Exterior Appearance <Org>Landmarks\n",
      "</Org><Landmarks>Preservation Commission </Landmarks>of the City of\n",
      "<USState>New <Org>York</Org></USState>, if required, and shall not\n",
      "interfere with or block either of the adjacent stores, provided,\n",
      "however, that Landlord shall not unreasonably withhold consent for\n",
      "signs that Tenant desires to in...\n",
      "Score:  0.745\n",
      "\n",
      "Node ID: 108d3972-f937-4d7c-8a27-0aaf0258e2b1\n",
      "Text: 44. Signs And Exterior Appearance <Org>Landmarks\n",
      "</Org><Landmarks>Preservation Commission </Landmarks>of the City of\n",
      "<USState>New <Org>York</Org></USState>, if required, and shall not\n",
      "interfere with or block either of the adjacent stores, provided,\n",
      "however, that Landlord shall not unreasonably withhold consent for\n",
      "signs that Tenant desires to in...\n",
      "Score:  0.743\n",
      "\n",
      "Node ID: 111d4044-229d-4e40-b771-29cc33dc8298\n",
      "Text: 44. Signs And Exterior Appearance <Org>Landmarks\n",
      "</Org><Landmarks>Preservation Commission </Landmarks>of the City of\n",
      "<USState>New <Org>York</Org></USState>, if required, and shall not\n",
      "interfere with or block either of the adjacent stores, provided,\n",
      "however, that Landlord shall not unreasonably withhold consent for\n",
      "signs that Tenant desires to in...\n",
      "Score:  0.741\n",
      "\n"
     ]
    }
   ],
   "source": [
    "# Try out the query engine with example query\n",
    "query_engine = create_query_engine(chunks)\n",
    "response = query_engine.query(\"What can tenants do with signage on their properties?\")\n",
    "print(response.response + \"\\n\")\n",
    "\n",
    "for node in response.source_nodes:\n",
    "  print(node)"
   ]
  },
  {
   "attachments": {},
   "cell_type": "markdown",
   "metadata": {},
   "source": [
    "## Using Docugami to Add Metadata to Chunks for High Accuracy Document QA\n",
    "\n",
    "One issue with large documents is that the correct answer to your question may depend on chunks that are far apart in the document. Typical chunking techniques, even with overlap, will struggle with providing the LLM sufficent context to answer such questions. With upcoming very large context LLMs, it may be possible to stuff a lot of tokens, perhaps even entire documents, inside the context but this will still hit limits at some point with very long documents, or a lot of documents.\n",
    "\n",
    "For example, if we ask a more complex question that requires the LLM to draw on chunks from different parts of the document, even OpenAI's powerful LLM is unable to answer correctly."
   ]
  },
  {
   "cell_type": "code",
   "execution_count": 8,
   "metadata": {},
   "outputs": [
    {
     "name": "stdout",
     "output_type": "stream",
     "text": [
      "There is no information in the given context about the security deposit for the property owned by Birch Street.\n",
      "Lease Agreements/Bioplex, Inc.pdf\n",
      "C. <SecurityDeposit>$5969</SecurityDeposit>, which sum shall be held by Landlord, without obligation for interest, as security for the performance of Tenant’s covenants and obligation under this Lease, it being expressly understood and agreed that such deposit is not an advance rental deposit, not the last month’s rent nor a measure of Landlord’s damages in the event of Tenant’s default. Upon the occurrence of any event of default by Tenant, Landlord may, <Frequency>from time to time</Frequency>, without prejudices to any other remedy provided herein or provided by law, use such deposit to the extent necessary to make good any arrears of rent of other payments due Landlord hereunder, and any other damage, injury, expense or liability caused by such event of default; or to perform any obligation required of Tenant under the Lease; and Tenant shall pay Landlord on demand the amount so applied in order to restore the security deposit to its original amount. Although the security deposit shall be deemed the property of Landlord, any remaining balance of such deposit shall be returned by Landlord to Tenant at such time after termination of this Lease that all of Tenant’s obligations under this Lease have been fulfilled.\n",
      "Sample Commercial Leases/Shorebucks LLC_WA.pdf\n",
      "22. SECURITY DEPOSIT. Security Deposit shall be held by Landlord as security for Tenant's full and faithful performance of this Lease including the payment of Rent. Tenant grants Landlord a security interest in the Security Deposit. The Security Deposit may be commingled with other funds of Landlord and Landlord shall have no liability for payment of any interest on the Security Deposit. Landlord may apply the Security Deposit to the extent required to cure any default by Tenant. If Landlord so applies the Security Deposit, Tenant shall deliver to Landlord the amount necessary to replenish the Security Deposit to its original sum within <Deliver>five days </Deliver>after notice from Landlord. The Security Deposit shall not be deemed an advance payment of Rent or a measure of damages for any default by Tenant, nor shall it be a defense to any action that Landlord may bring against Tenant.\n",
      "Lease Agreements/Scotfind, Inc.pdf\n",
      "C. <SecurityDeposit>$4122</SecurityDeposit>, which sum shall be held by Landlord, without obligation for interest, as security for the performance of Tenant’s covenants and obligation under this Lease, it being expressly understood and agreed that such deposit is not an advance rental deposit, not the last month’s rent nor a measure of Landlord’s damages in the event of Tenant’s default. Upon the occurrence of any event of default by Tenant, Landlord may, <Frequency>from time to time</Frequency>, without prejudices to any other remedy provided herein or provided by law, use such deposit to the extent necessary to make good any arrears of rent of other payments due Landlord hereunder, and any other damage, injury, expense or liability caused by such event of default; or to perform any obligation required of Tenant under the Lease; and Tenant shall pay Landlord on demand the amount so applied in order to restore the security deposit to its original amount. Although the security deposit shall be deemed the property of Landlord, any remaining balance of such deposit shall be returned by Landlord to Tenant at such time after termination of this Lease that all of Tenant’s obligations under this Lease have been fulfilled.\n"
     ]
    }
   ],
   "source": [
    "response = query_engine.query(\"What is the security deposit for the property owned by Birch Street?\")\n",
    "print(response.response)  # the correct answer should be $78,000\n",
    "for node in response.source_nodes:\n",
    "    print(node.node.extra_info[\"name\"])\n",
    "    print(node.node.text)"
   ]
  },
  {
   "attachments": {},
   "cell_type": "markdown",
   "metadata": {},
   "source": [
    "At first glance the answer may seem plausible, but if you review the source chunks carefully for this answer, you will see that the chunking of the document did not end up putting the Landlord name and the rentable area in the same context, since they are far apart in the document. The query engine therefore ends up finding unrelated chunks from other documents not even related to the **Birch Street** landlord. That landlord happens to be mentioned on the first page of the file **TruTone Lane 1.pdf** file, and none of the source chunks used by the query engine contain the correct answer (**$78,000**), and the answer is therefore incorrect."
   ]
  },
  {
   "attachments": {},
   "cell_type": "markdown",
   "metadata": {},
   "source": [
    "Docugami can help here. Chunks are annotated with additional metadata created using different techniques if a user has been [using Docugami](https://help.docugami.com/home/reports). More technical approaches will be added later.\n",
    "\n",
    "Specifically, let's load the data again and this time instead of stripping semantic metadata let's look at the additional metadata that is returned on the documents returned by docugami after some additional use, in the form of some simple key/value pairs on all the text chunks:"
   ]
  },
  {
   "cell_type": "code",
   "execution_count": 9,
   "metadata": {},
   "outputs": [
    {
     "data": {
      "text/plain": [
       "{'xpath': '/docset:OFFICELEASE-section/docset:OFFICELEASE-section/dg:chunk/docset:Lease',\n",
       " 'id': 'cpzwzcurck2t',\n",
       " 'name': 'Sample Commercial Leases/Shorebucks LLC_AZ.pdf',\n",
       " 'structure': 'p',\n",
       " 'tag': 'Lease',\n",
       " 'Lease Date': 'March  29th , 2019',\n",
       " 'Landlord': 'Menlo Group',\n",
       " 'Tenant': 'Shorebucks LLC'}"
      ]
     },
     "execution_count": 9,
     "metadata": {},
     "output_type": "execute_result"
    }
   ],
   "source": [
    "chunks = reader.load_data(docset_id=docset_id)\n",
    "chunks[0].metadata"
   ]
  },
  {
   "cell_type": "markdown",
   "metadata": {},
   "source": [
    "Note semantic metadata tags like Lease Date, Landlord, Tenant, etc that are based on key chunks in the document even if they don't appear near the chunk in question."
   ]
  },
  {
   "attachments": {},
   "cell_type": "markdown",
   "metadata": {},
   "source": [
    "Let's run the same question again. It returns the correct result since all the chunks have metadata key/value pairs on them carrying key information about the document even if this information is physically very far away from the source chunk used to generate the answer."
   ]
  },
  {
   "cell_type": "code",
   "execution_count": 15,
   "metadata": {},
   "outputs": [
    {
     "name": "stdout",
     "output_type": "stream",
     "text": [
      "The security deposit for the property owned by Birch Street is $78,000.00.\n",
      "Lease Agreements/Problem Corp.pdf\n",
      "C. <SecurityDeposit>$5010</SecurityDeposit>, which sum shall be held by Landlord, without obligation for interest, as security for the performance of Tenant’s covenants and obligation under this Lease, it being expressly understood and agreed that such deposit is not an advance rental deposit, not the last month’s rent nor a measure of Landlord’s damages in the event of Tenant’s default. Upon the occurrence of any event of default by Tenant, Landlord may, <Frequency>from time to time</Frequency>, without prejudices to any other remedy provided herein or provided by law, use such deposit to the extent necessary to make good any arrears of rent of other payments due Landlord hereunder, and any other damage, injury, expense or liability caused by such event of default; or to perform any obligation required of Tenant under the Lease; and Tenant shall pay Landlord on demand the amount so applied in order to restore the security deposit to its original amount. Although the security deposit shall be deemed the property of Landlord, any remaining balance of such deposit shall be returned by Landlord to Tenant at such time after termination of this Lease that all of Tenant’s obligations under this Lease have been fulfilled.\n",
      "Sample Commercial Leases/TruTone Lane 1.pdf\n",
      "56. Security Deposit <Security>$78,000.00 </Security>in good funds as security for the full and faithful performance and observance by Tenant of the terms, covenants and conditions of this Lease (the “Security”). If Tenant defaults in the performance or observance of any term, covenant or condition of this Lease, including without limitation the obligation of Tenant to pay any rent or other sum required hereunder, Landlord may use, aft er <WrittenNotice>10 days </WrittenNotice>written notice to Tenant ,apply, or retain, without any application to any court or tribunal, the whole or any part of the Security so deposited to the extent required for the payment of any rent or any other sum as to which Tenant is in default or for any sum which Landlord may expend or may be required to expend by reason of Tenant's default, including without limitation any damages or deficiency accrued before or after summary proceedings or other re-entry by Landlord. Such use, application, or retention by the Landlord shall be without prejudice to Landlord’s rights to seek any and all additional rent and/or damages that may have accrued. If Tenant shall fully and faithfully observe and perform all of the terms, covenants, and conditions of this Lease, the Security, shall be returned to Tenant after the end of the term of this Lease or at permissible early termination as provided herein and the delivery of possession of the demised Premises to Landlord.\n",
      "Lease Agreements/Streethex, Inc.pdf\n",
      "C. <SecurityDeposit>$788</SecurityDeposit>, which sum shall be held by Landlord, without obligation for interest, as security for the performance of Tenant’s covenants and obligation under this Lease, it being expressly understood and agreed that such deposit is not an advance rental deposit, not the last month’s rent nor a measure of Landlord’s damages in the event of Tenant’s default. Upon the occurrence of any event of default by Tenant, Landlord may, <Frequency>from time to time</Frequency>, without prejudices to any other remedy provided herein or provided by law, use such deposit to the extent necessary to make good any arrears of rent of other payments due Landlord hereunder, and any other damage, injury, expense or liability caused by such event of default; or to perform any obligation required of Tenant under the Lease; and Tenant shall pay Landlord on demand the amount so applied in order to restore the security deposit to its original amount. Although the security deposit shall be deemed the property of Landlord, any remaining balance of such deposit shall be returned by Landlord to Tenant at such time after termination of this Lease that all of Tenant’s obligations under this Lease have been fulfilled.\n"
     ]
    }
   ],
   "source": [
    "query_engine = create_query_engine(chunks)\n",
    "response = query_engine.query(\n",
    "    \"What is the security deposit for the property owned by Birch Street?\"\n",
    ")\n",
    "print(response.response)  # the correct answer should be $78,000\n",
    "for node in response.source_nodes:\n",
    "    print(node.node.extra_info[\"name\"])\n",
    "    print(node.node.text)"
   ]
  }
 ],
 "metadata": {
  "kernelspec": {
   "display_name": "Python 3",
   "language": "python",
   "name": "python3"
  },
  "language_info": {
   "codemirror_mode": {
    "name": "ipython",
    "version": 3
   },
   "file_extension": ".py",
   "mimetype": "text/x-python",
   "name": "python",
   "nbconvert_exporter": "python",
   "pygments_lexer": "ipython3",
   "version": "3.9.16"
  },
  "orig_nbformat": 4
 },
 "nbformat": 4,
 "nbformat_minor": 2
}
