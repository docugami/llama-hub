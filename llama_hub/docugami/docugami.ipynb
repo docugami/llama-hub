{
 "cells": [
  {
   "cell_type": "code",
   "execution_count": 28,
   "metadata": {},
   "outputs": [
    {
     "name": "stdout",
     "output_type": "stream",
     "text": [
      "The autoreload extension is already loaded. To reload it, use:\n",
      "  %reload_ext autoreload\n"
     ]
    }
   ],
   "source": [
    "%load_ext autoreload\n",
    "%autoreload 2"
   ]
  },
  {
   "cell_type": "code",
   "execution_count": 29,
   "metadata": {},
   "outputs": [
    {
     "name": "stdout",
     "output_type": "stream",
     "text": [
      "\u001b[33mWARNING: Running pip as the 'root' user can result in broken permissions and conflicting behaviour with the system package manager. It is recommended to use a virtual environment instead: https://pip.pypa.io/warnings/venv\u001b[0m\u001b[33m\n",
      "\u001b[0mNote: you may need to restart the kernel to use updated packages.\n"
     ]
    }
   ],
   "source": [
    "%pip install --upgrade llama_index chromadb dgml-utils --quiet"
   ]
  },
  {
   "attachments": {},
   "cell_type": "markdown",
   "metadata": {},
   "source": [
    "# Docugami\n",
    "This notebook covers how to load documents from `Docugami`. See [README](./README.md) for more details, and the advantages of using this system over alternative data readers.\n",
    "\n",
    "## Prerequisites\n",
    "1. Follow the Quick Start section in [README](./README.md)\n",
    "2. Grab an access token for your workspace, and make sure it is set as the DOCUGAMI_API_KEY environment variable\n",
    "3. Grab some docset and document IDs for your processed documents, as described here: https://help.docugami.com/home/docugami-api"
   ]
  },
  {
   "attachments": {},
   "cell_type": "markdown",
   "metadata": {},
   "source": [
    "## Load Documents\n",
    "\n",
    "If the DOCUGAMI_API_KEY environment variable is set, there is no need to pass it in to the reader explicitly otherwise you can pass it in as the `access_token` parameter."
   ]
  },
  {
   "cell_type": "code",
   "execution_count": 30,
   "metadata": {},
   "outputs": [
    {
     "data": {
      "text/plain": [
       "116"
      ]
     },
     "execution_count": 30,
     "metadata": {},
     "output_type": "execute_result"
    }
   ],
   "source": [
    "from base import DocugamiReader\n",
    "\n",
    "docset_id = \"26xpy3aes7xp\"\n",
    "document_ids = [\"d7jqdzcj50sj\", \"cgd1eacfkchw\"]\n",
    "\n",
    "reader = DocugamiReader()\n",
    "chunks = reader.load_data(docset_id=docset_id, document_ids=document_ids)\n",
    "\n",
    "len(chunks)"
   ]
  },
  {
   "cell_type": "code",
   "execution_count": 31,
   "metadata": {},
   "outputs": [
    {
     "name": "stdout",
     "output_type": "stream",
     "text": [
      "2.4 If scheduled onsite visits are cancelled less than ten (10) working days in advance of the scheduled date, Company is entitled to charge fifty percent (50%) of the expected revenue associated with this onsite activity as compensation.\n",
      "{'xpath': '/dg:chunk/docset:MASTERSERVICESAGREEMENT-section/docset:MASTERSERVICESAGREEMENT/dg:chunk[1]/docset:Standard/dg:chunk[3]/dg:chunk[2]/docset:ADailyBasis/dg:chunk[4]/docset:IfScheduledOnsiteVisits', 'id': 'cgd1eacfkchw', 'name': 'Master Services Agreement - Daltech.docx', 'structure': 'lim p', 'tag': 'chunk IfScheduledOnsiteVisits', 'Liability': '', 'Workers Compensation Insurance': '$1,000,000', 'Limit': '$1,000,000', 'Commercial General Liability Insurance': '$2,000,000', 'Technology Professional Liability Errors Omissions Policy': '$5,000,000', 'Excess Liability Umbrella Coverage': '$9,000,000', 'Client': 'Daltech, Inc.', 'Services Agreement Date': 'INITIAL STATEMENT  OF WORK (SOW)  The purpose of this SOW is to describe the Software and Services that Company will initially provide to  Daltech, Inc.  the “Client”) under the terms and conditions of the  Services Agreement  entered into between the parties on  June 15, 2021', 'Completion of the Services by Company Date': 'February 15, 2022', 'Charge': 'one hundred percent (100%)', 'Company': 'MagicSoft, Inc.', 'Effective Date': 'February 15, 2021', 'Start Date': '03/15/2021', 'Scheduled Onsite Visits Are Cancelled': 'ten (10) working days', 'Limit on Liability': '', 'Liability Cap': '', 'Business Automobile Liability': 'Business Automobile Liability  covering all vehicles that Company owns, hires or leases with a limit of no less than  $1,000,000  (combined single limit for bodily injury and property damage) for each accident.', 'Contractual Liability Coverage': 'Commercial General Liability insurance including  Contractual Liability Coverage , with coverage for products liability, completed operations, property damage and bodily injury, including  death , with an aggregate limit of no less than  $2,000,000 . This policy shall name Client as an additional insured with respect to the provision of services provided under this Agreement. This policy shall include a waiver of subrogation against Client.', 'Technology Professional Liability Errors Omissions': 'Technology Professional Liability Errors & Omissions policy (which includes Cyber Risk coverage and Computer Security and Privacy Liability coverage) with a limit of no less than  $5,000,000  per occurrence and in the aggregate.'}\n"
     ]
    }
   ],
   "source": [
    "# Inspect one of the chunks\n",
    "print(chunks[6].text)\n",
    "print(chunks[6].metadata)"
   ]
  },
  {
   "cell_type": "markdown",
   "metadata": {},
   "source": [
    "The `metadata` for each `Document` (really, a chunk of an actual PDF, DOC or DOCX) contains some useful additional information:\n",
    "\n",
    "1. **id and name:** ID and Name of the file (PDF, DOC or DOCX) the chunk is sourced from within Docugami.\n",
    "2. **xpath:** XPath inside the XML representation of the document, for the chunk. Useful for source citations directly to the actual chunk inside the document XML.\n",
    "3. **structure:** Structural attributes of the chunk, e.g. h1, h2, div, table, td, etc. Useful to filter out certain kinds of chunks if needed by the caller.\n",
    "4. **tag:** Semantic tag for the chunk, using various generative and extractive techniques. More details here: https://github.com/docugami/DFM-benchmarks\n",
    "\n",
    "You can control chunking behavior by setting the following properties on the `DocugamiReader` instance:\n",
    "\n",
    "1. There is a minimum chunk size of 32 that can be changed. Chunks smaller than the minimum size are appended to subsequent chunks. You can set `reader.min_chunk_size = 0` to get all structural chunks regardless of size or `reader.min_chunk_size = 1024` to get very large chunks.\n",
    "2. By default, only the text for chunks is returned. However, Docugami's XML knowledge graph has additional rich information including semantic tags for entities inside the chunk. Set `reader.include_xml_tags = True` if you want the additional xml metadata on the returned chunks."
   ]
  },
  {
   "attachments": {},
   "cell_type": "markdown",
   "metadata": {},
   "source": [
    "## Basic Use: Docugami Reader for Document QA\n",
    "\n",
    "You can use the Docugami Reader like a standard reader for Document QA over multiple docs, albeit with much better chunks that follow the natural contours of the document. There are many great tutorials on how to do this, e.g. [this one](https://gpt-index.readthedocs.io/en/latest/getting_started/starter_example.html). We can just use the same code, but use the `DocugamiReader` for better chunking, instead of loading text or PDF files directly with basic splitting techniques."
   ]
  },
  {
   "cell_type": "code",
   "execution_count": 32,
   "metadata": {},
   "outputs": [
    {
     "name": "stdout",
     "output_type": "stream",
     "text": [
      "4663\n",
      "OFFICE LEASE THIS OFFICE LEASE (the \"Lease\") is made and entered into as of March 29th , 2019 , by and between Landlord and Tenant. \"Date of this Lease\" shall mean the date on which the last one of the Landlord and Tenant has signed this Lease.\n",
      "{'xpath': '/docset:OFFICELEASE-section/docset:OFFICELEASE-section/dg:chunk/docset:Lease', 'id': 'cpzwzcurck2t', 'name': 'Sample Commercial Leases/Shorebucks LLC_AZ.pdf', 'structure': 'h1 h1 p'}\n"
     ]
    }
   ],
   "source": [
    "# For this example, we already have a processed docset for a set of lease documents\n",
    "docset_id = \"zo954yqy53wp\"\n",
    "chunks = reader.load_data(docset_id=docset_id)\n",
    "\n",
    "# strip semantic metadata intentionally, to test how things work without semantic metadata\n",
    "for chunk in chunks:\n",
    "    stripped_metadata = chunk.metadata.copy()\n",
    "    for key in chunk.metadata:\n",
    "        if key not in [\"name\", \"xpath\", \"id\", \"structure\"]:\n",
    "            # remove semantic metadata\n",
    "            del stripped_metadata[key]\n",
    "    chunk.metadata = stripped_metadata\n",
    "\n",
    "print(len(chunks))\n",
    "print(chunks[0].text)\n",
    "print(chunks[0].metadata)"
   ]
  },
  {
   "attachments": {},
   "cell_type": "markdown",
   "metadata": {},
   "source": [
    "The documents returned by the reader are already split into chunks. Optionally, we can use the metadata on each chunk, for example the structure or tag attributes, to do any post-processing we want.\n",
    "\n",
    "We will just use the output of the `DocugamiReader` as-is to set up a query engine the usual way."
   ]
  },
  {
   "cell_type": "code",
   "execution_count": 33,
   "metadata": {},
   "outputs": [],
   "source": [
    "from llama_index import VectorStoreIndex, ServiceContext, StorageContext\n",
    "from llama_index.llms import LangChainLLM\n",
    "from llama_index.embeddings import LangchainEmbedding\n",
    "\n",
    "# pick other providers and swap as needed\n",
    "from llama_index.vector_stores import ChromaVectorStore\n",
    "from langchain.chat_models.openai import ChatOpenAI\n",
    "from langchain.embeddings import OpenAIEmbeddings\n",
    "import chromadb\n",
    "\n",
    "def create_query_engine(chunks, index_name):\n",
    "    llm = LangChainLLM(ChatOpenAI())\n",
    "    embeddings = LangchainEmbedding(OpenAIEmbeddings())\n",
    "\n",
    "    chroma_client = chromadb.PersistentClient(path=\"./temp/chroma.backup\")\n",
    "    chroma_collection = chroma_client.create_collection(index_name, get_or_create=True)\n",
    "    vector_store = ChromaVectorStore(chroma_collection=chroma_collection)\n",
    "\n",
    "    storage_context = StorageContext.from_defaults(vector_store=vector_store)\n",
    "    service_context = ServiceContext.from_defaults(llm=llm, embed_model=embeddings)\n",
    "\n",
    "    index = VectorStoreIndex.from_documents(\n",
    "        chunks, storage_context=storage_context, service_context=service_context\n",
    "    )\n",
    "\n",
    "    return index.as_query_engine(similarity_top_k=5)"
   ]
  },
  {
   "cell_type": "code",
   "execution_count": 34,
   "metadata": {},
   "outputs": [
    {
     "name": "stdout",
     "output_type": "stream",
     "text": [
      "Tenants are not given any specific rights or options regarding signage on their properties based on the provided context information.\n",
      "\n",
      "Node ID: 161c8835-a933-4cd7-b207-cef0d6e0c78e\n",
      "Text: (b) Enter upon and take possession of the Premises, by changing\n",
      "locks if necessary, and lock out, expel or remove Tenant and any other\n",
      "person who may be occupying all or any part of the Premises without\n",
      "being liable for any claim for damages, and without causing a\n",
      "trespass, without being liable for any claim for damages, and without\n",
      "causing a te...\n",
      "Score:  0.691\n",
      "\n",
      "Node ID: a574cc2a-538b-4295-bc6a-39cc0ebcfc02\n",
      "Text: (b) Enter upon and take possession of the Premises, by changing\n",
      "locks if necessary, and lock out, expel or remove Tenant and any other\n",
      "person who may be occupying all or any part of the Premises without\n",
      "being liable for any claim for damages, and without causing a\n",
      "trespass, without being liable for any claim for damages, and without\n",
      "causing a te...\n",
      "Score:  0.691\n",
      "\n",
      "Node ID: 4142186e-b050-4650-8cc9-93450c77f28a\n",
      "Text: (b) Enter upon and take possession of the Premises, by changing\n",
      "locks if necessary, and lock out, expel or remove Tenant and any other\n",
      "person who may be occupying all or any part of the Premises without\n",
      "being liable for any claim for damages, and without causing a\n",
      "trespass, without being liable for any claim for damages, and without\n",
      "causing a te...\n",
      "Score:  0.691\n",
      "\n",
      "Node ID: 119cb934-21a2-400f-a523-a1366135d7b2\n",
      "Text: C. Enter upon and take possession of the Premises and expel or\n",
      "remove Tenant and any other person who may be occupying such Premises\n",
      "or any part thereof, by the use of such force as is lawful, without\n",
      "being liable for prosecution or any claim for damages therefor, and\n",
      "relet the Premises for such terms ending before, on or after the\n",
      "expiration da...\n",
      "Score:  0.690\n",
      "\n",
      "Node ID: 0047a061-5fbd-4b9b-b820-82725b4b99fb\n",
      "Text: C. Enter upon and take possession of the Premises and expel or\n",
      "remove Tenant and any other person who may be occupying such Premises\n",
      "or any part thereof, by the use of such force as is lawful, without\n",
      "being liable for prosecution or any claim for damages therefor, and\n",
      "relet the Premises for such terms ending before, on or after the\n",
      "expiration da...\n",
      "Score:  0.690\n",
      "\n"
     ]
    }
   ],
   "source": [
    "# Try out the query engine with example query\n",
    "stripped_metadata_query_engine = create_query_engine(chunks, index_name=\"stripped_metadata_index\")\n",
    "response = stripped_metadata_query_engine.query(\"What can tenants do with signage on their properties?\")\n",
    "print(response.response + \"\\n\")\n",
    "\n",
    "for node in response.source_nodes:\n",
    "  print(node)"
   ]
  },
  {
   "attachments": {},
   "cell_type": "markdown",
   "metadata": {},
   "source": [
    "## Using Docugami to Add Metadata to Chunks for High Accuracy Document QA\n",
    "\n",
    "One issue with large documents is that the correct answer to your question may depend on chunks that are far apart in the document. Typical chunking techniques, even with overlap, will struggle with providing the LLM sufficent context to answer such questions. With upcoming very large context LLMs, it may be possible to stuff a lot of tokens, perhaps even entire documents, inside the context but this will still hit limits at some point with very long documents, or a lot of documents.\n",
    "\n",
    "For example, if we ask a more complex question that requires the LLM to draw on chunks from different parts of the document, even OpenAI's powerful LLM is unable to answer correctly."
   ]
  },
  {
   "cell_type": "code",
   "execution_count": 35,
   "metadata": {},
   "outputs": [
    {
     "name": "stdout",
     "output_type": "stream",
     "text": [
      "The security deposit for the property owned by Birch Street is $788.\n",
      "Lease Agreements/Bioplex, Inc.pdf\n",
      "C. In addition, Tenant agrees to deposit with Landlord on the date hereof a security deposit in the amount of $5969 , which sum shall be held by Landlord, without obligation for interest, as security for the performance of Tenant’s covenants and obligation under this Lease, it being expressly understood and agreed that such deposit is not an advance rental deposit, not the last month’s rent nor a measure of Landlord’s damages in the event of Tenant’s default. Upon the occurrence of any event of default by Tenant, Landlord may, from time to time , without prejudices to any other remedy provided herein or provided by law, use such deposit to the extent necessary to make good any arrears of rent of other payments due Landlord hereunder, and any other damage, injury, expense or liability caused by such event of default; or to perform any obligation required of Tenant under the Lease; and Tenant shall pay Landlord on demand the amount so applied in order to restore the security deposit to its original amount. Although the security deposit shall be deemed the property of Landlord, any remaining balance of such deposit shall be returned by Landlord to Tenant at such time after termination of this Lease that all of Tenant’s obligations under this Lease have been fulfilled.\n",
      "Lease Agreements/Bioplex, Inc.pdf\n",
      "C. In addition, Tenant agrees to deposit with Landlord on the date hereof a security deposit in the amount of $5969 , which sum shall be held by Landlord, without obligation for interest, as security for the performance of Tenant’s covenants and obligation under this Lease, it being expressly understood and agreed that such deposit is not an advance rental deposit, not the last month’s rent nor a measure of Landlord’s damages in the event of Tenant’s default. Upon the occurrence of any event of default by Tenant, Landlord may, from time to time , without prejudices to any other remedy provided herein or provided by law, use such deposit to the extent necessary to make good any arrears of rent of other payments due Landlord hereunder, and any other damage, injury, expense or liability caused by such event of default; or to perform any obligation required of Tenant under the Lease; and Tenant shall pay Landlord on demand the amount so applied in order to restore the security deposit to its original amount. Although the security deposit shall be deemed the property of Landlord, any remaining balance of such deposit shall be returned by Landlord to Tenant at such time after termination of this Lease that all of Tenant’s obligations under this Lease have been fulfilled.\n",
      "Lease Agreements/Bioplex, Inc.pdf\n",
      "C. In addition, Tenant agrees to deposit with Landlord on the date hereof a security deposit in the amount of $5969 , which sum shall be held by Landlord, without obligation for interest, as security for the performance of Tenant’s covenants and obligation under this Lease, it being expressly understood and agreed that such deposit is not an advance rental deposit, not the last month’s rent nor a measure of Landlord’s damages in the event of Tenant’s default. Upon the occurrence of any event of default by Tenant, Landlord may, from time to time , without prejudices to any other remedy provided herein or provided by law, use such deposit to the extent necessary to make good any arrears of rent of other payments due Landlord hereunder, and any other damage, injury, expense or liability caused by such event of default; or to perform any obligation required of Tenant under the Lease; and Tenant shall pay Landlord on demand the amount so applied in order to restore the security deposit to its original amount. Although the security deposit shall be deemed the property of Landlord, any remaining balance of such deposit shall be returned by Landlord to Tenant at such time after termination of this Lease that all of Tenant’s obligations under this Lease have been fulfilled.\n",
      "Lease Agreements/Streethex, Inc.pdf\n",
      "C. In addition, Tenant agrees to deposit with Landlord on the date hereof a security deposit in the amount of $788 , which sum shall be held by Landlord, without obligation for interest, as security for the performance of Tenant’s covenants and obligation under this Lease, it being expressly understood and agreed that such deposit is not an advance rental deposit, not the last month’s rent nor a measure of Landlord’s damages in the event of Tenant’s default. Upon the occurrence of any event of default by Tenant, Landlord may, from time to time , without prejudices to any other remedy provided herein or provided by law, use such deposit to the extent necessary to make good any arrears of rent of other payments due Landlord hereunder, and any other damage, injury, expense or liability caused by such event of default; or to perform any obligation required of Tenant under the Lease; and Tenant shall pay Landlord on demand the amount so applied in order to restore the security deposit to its original amount. Although the security deposit shall be deemed the property of Landlord, any remaining balance of such deposit shall be returned by Landlord to Tenant at such time after termination of this Lease that all of Tenant’s obligations under this Lease have been fulfilled.\n",
      "Lease Agreements/Streethex, Inc.pdf\n",
      "C. In addition, Tenant agrees to deposit with Landlord on the date hereof a security deposit in the amount of $788 , which sum shall be held by Landlord, without obligation for interest, as security for the performance of Tenant’s covenants and obligation under this Lease, it being expressly understood and agreed that such deposit is not an advance rental deposit, not the last month’s rent nor a measure of Landlord’s damages in the event of Tenant’s default. Upon the occurrence of any event of default by Tenant, Landlord may, from time to time , without prejudices to any other remedy provided herein or provided by law, use such deposit to the extent necessary to make good any arrears of rent of other payments due Landlord hereunder, and any other damage, injury, expense or liability caused by such event of default; or to perform any obligation required of Tenant under the Lease; and Tenant shall pay Landlord on demand the amount so applied in order to restore the security deposit to its original amount. Although the security deposit shall be deemed the property of Landlord, any remaining balance of such deposit shall be returned by Landlord to Tenant at such time after termination of this Lease that all of Tenant’s obligations under this Lease have been fulfilled.\n"
     ]
    }
   ],
   "source": [
    "response = stripped_metadata_query_engine.query(\"What is the security deposit for the property owned by Birch Street?\")\n",
    "print(response.response)  # the correct answer should be $78,000\n",
    "for node in response.source_nodes:\n",
    "    print(node.node.extra_info[\"name\"])\n",
    "    print(node.node.text)"
   ]
  },
  {
   "attachments": {},
   "cell_type": "markdown",
   "metadata": {},
   "source": [
    "At first glance the answer may seem plausible, but if you review the source chunks carefully for this answer, you will see that the chunking of the document did not end up putting the Landlord name and the security deposit in the same context, since they are far apart in the document. The query engine therefore ends up finding unrelated chunks from other documents not even related to the **Catalyst Group** landlord. That landlord happens to be mentioned on the first page of the file **Shorebucks LLC_WA.pdf** file, and none of the source chunks used by the query engine contain the correct answer (**$78,000**), and the answer is therefore incorrect."
   ]
  },
  {
   "attachments": {},
   "cell_type": "markdown",
   "metadata": {},
   "source": [
    "Docugami can help here. Chunks are annotated with additional metadata created using different techniques if a user has been [using Docugami](https://help.docugami.com/home/reports). More technical approaches will be added later.\n",
    "\n",
    "Specifically, let's load the data again and this time instead of stripping semantic metadata let's look at the additional metadata that is returned on the documents returned by docugami after some additional use, in the form of some simple key/value pairs on all the text chunks:"
   ]
  },
  {
   "cell_type": "code",
   "execution_count": 36,
   "metadata": {},
   "outputs": [
    {
     "data": {
      "text/plain": [
       "{'xpath': '/docset:OFFICELEASE-section/docset:OFFICELEASE-section/dg:chunk/docset:Lease',\n",
       " 'id': 'cpzwzcurck2t',\n",
       " 'name': 'Sample Commercial Leases/Shorebucks LLC_AZ.pdf',\n",
       " 'structure': 'h1 h1 p',\n",
       " 'tag': 'chunk Lease',\n",
       " 'Lease Date': 'March  29th , 2019',\n",
       " 'Landlord': 'Menlo Group',\n",
       " 'Tenant': 'Shorebucks LLC'}"
      ]
     },
     "execution_count": 36,
     "metadata": {},
     "output_type": "execute_result"
    }
   ],
   "source": [
    "chunks = reader.load_data(docset_id=docset_id)\n",
    "chunks[0].metadata"
   ]
  },
  {
   "cell_type": "markdown",
   "metadata": {},
   "source": [
    "Note semantic metadata tags like Lease Date, Landlord, Tenant, etc that are based on key chunks in the document even if they don't appear near the chunk in question."
   ]
  },
  {
   "attachments": {},
   "cell_type": "markdown",
   "metadata": {},
   "source": [
    "Let's run the same question again. It returns the correct result since all the chunks have metadata key/value pairs on them carrying key information about the document even if this information is physically very far away from the source chunk used to generate the answer."
   ]
  },
  {
   "cell_type": "code",
   "execution_count": 37,
   "metadata": {},
   "outputs": [
    {
     "name": "stdout",
     "output_type": "stream",
     "text": [
      "There is no information in the given context about the property being owned by Birch Street or the security deposit for that property.\n",
      "Lease Agreements/Streethex, Inc.pdf\n",
      "C. In addition, Tenant agrees to deposit with Landlord on the date hereof a security deposit in the amount of $788 , which sum shall be held by Landlord, without obligation for interest, as security for the performance of Tenant’s covenants and obligation under this Lease, it being expressly understood and agreed that such deposit is not an advance rental deposit, not the last month’s rent nor a measure of Landlord’s damages in the event of Tenant’s default. Upon the occurrence of any event of default by Tenant, Landlord may, from time to time , without prejudices to any other remedy provided herein or provided by law, use such deposit to the extent necessary to make good any arrears of rent of other payments due Landlord hereunder, and any other damage, injury, expense or liability caused by such event of default; or to perform any obligation required of Tenant under the Lease; and Tenant shall pay Landlord on demand the amount so applied in order to restore the security deposit to its original amount. Although the security deposit shall be deemed the property of Landlord, any remaining balance of such deposit shall be returned by Landlord to Tenant at such time after termination of this Lease that all of Tenant’s obligations under this Lease have been fulfilled.\n",
      "Lease Agreements/Streethex, Inc.pdf\n",
      "C. In addition, Tenant agrees to deposit with Landlord on the date hereof a security deposit in the amount of $788 , which sum shall be held by Landlord, without obligation for interest, as security for the performance of Tenant’s covenants and obligation under this Lease, it being expressly understood and agreed that such deposit is not an advance rental deposit, not the last month’s rent nor a measure of Landlord’s damages in the event of Tenant’s default. Upon the occurrence of any event of default by Tenant, Landlord may, from time to time , without prejudices to any other remedy provided herein or provided by law, use such deposit to the extent necessary to make good any arrears of rent of other payments due Landlord hereunder, and any other damage, injury, expense or liability caused by such event of default; or to perform any obligation required of Tenant under the Lease; and Tenant shall pay Landlord on demand the amount so applied in order to restore the security deposit to its original amount. Although the security deposit shall be deemed the property of Landlord, any remaining balance of such deposit shall be returned by Landlord to Tenant at such time after termination of this Lease that all of Tenant’s obligations under this Lease have been fulfilled.\n",
      "Lease Agreements/Streethex, Inc.pdf\n",
      "C. In addition, Tenant agrees to deposit with Landlord on the date hereof a security deposit in the amount of $788 , which sum shall be held by Landlord, without obligation for interest, as security for the performance of Tenant’s covenants and obligation under this Lease, it being expressly understood and agreed that such deposit is not an advance rental deposit, not the last month’s rent nor a measure of Landlord’s damages in the event of Tenant’s default. Upon the occurrence of any event of default by Tenant, Landlord may, from time to time , without prejudices to any other remedy provided herein or provided by law, use such deposit to the extent necessary to make good any arrears of rent of other payments due Landlord hereunder, and any other damage, injury, expense or liability caused by such event of default; or to perform any obligation required of Tenant under the Lease; and Tenant shall pay Landlord on demand the amount so applied in order to restore the security deposit to its original amount. Although the security deposit shall be deemed the property of Landlord, any remaining balance of such deposit shall be returned by Landlord to Tenant at such time after termination of this Lease that all of Tenant’s obligations under this Lease have been fulfilled.\n",
      "Lease Agreements/Streethex, Inc.pdf\n",
      "C. In addition, Tenant agrees to deposit with Landlord on the date hereof a security deposit in the amount of $788 , which sum shall be held by Landlord, without obligation for interest, as security for the performance of Tenant’s covenants and obligation under this Lease, it being expressly understood and agreed that such deposit is not an advance rental deposit, not the last month’s rent nor a measure of Landlord’s damages in the event of Tenant’s default. Upon the occurrence of any event of default by Tenant, Landlord may, from time to time , without prejudices to any other remedy provided herein or provided by law, use such deposit to the extent necessary to make good any arrears of rent of other payments due Landlord hereunder, and any other damage, injury, expense or liability caused by such event of default; or to perform any obligation required of Tenant under the Lease; and Tenant shall pay Landlord on demand the amount so applied in order to restore the security deposit to its original amount. Although the security deposit shall be deemed the property of Landlord, any remaining balance of such deposit shall be returned by Landlord to Tenant at such time after termination of this Lease that all of Tenant’s obligations under this Lease have been fulfilled.\n",
      "Lease Agreements/Streethex, Inc.pdf\n",
      "C. In addition, Tenant agrees to deposit with Landlord on the date hereof a security deposit in the amount of $788 , which sum shall be held by Landlord, without obligation for interest, as security for the performance of Tenant’s covenants and obligation under this Lease, it being expressly understood and agreed that such deposit is not an advance rental deposit, not the last month’s rent nor a measure of Landlord’s damages in the event of Tenant’s default. Upon the occurrence of any event of default by Tenant, Landlord may, from time to time , without prejudices to any other remedy provided herein or provided by law, use such deposit to the extent necessary to make good any arrears of rent of other payments due Landlord hereunder, and any other damage, injury, expense or liability caused by such event of default; or to perform any obligation required of Tenant under the Lease; and Tenant shall pay Landlord on demand the amount so applied in order to restore the security deposit to its original amount. Although the security deposit shall be deemed the property of Landlord, any remaining balance of such deposit shall be returned by Landlord to Tenant at such time after termination of this Lease that all of Tenant’s obligations under this Lease have been fulfilled.\n"
     ]
    }
   ],
   "source": [
    "with_metadata_query_engine = create_query_engine(chunks, index_name=\"with_metadata_index\")\n",
    "response = with_metadata_query_engine.query(\"What is the security deposit for the property owned by Birch Street?\")\n",
    "print(response.response)  # the correct answer should be $78,000\n",
    "for node in response.source_nodes:\n",
    "    print(node.node.extra_info[\"name\"])\n",
    "    print(node.node.text)"
   ]
  }
 ],
 "metadata": {
  "kernelspec": {
   "display_name": "Python 3",
   "language": "python",
   "name": "python3"
  },
  "language_info": {
   "codemirror_mode": {
    "name": "ipython",
    "version": 3
   },
   "file_extension": ".py",
   "mimetype": "text/x-python",
   "name": "python",
   "nbconvert_exporter": "python",
   "pygments_lexer": "ipython3",
   "version": "3.9.16"
  },
  "orig_nbformat": 4
 },
 "nbformat": 4,
 "nbformat_minor": 2
}
